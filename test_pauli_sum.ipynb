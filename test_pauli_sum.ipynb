{
 "cells": [
  {
   "cell_type": "code",
   "execution_count": 1,
   "metadata": {},
   "outputs": [],
   "source": [
    "using Revise\n",
    "using PauliPropagation"
   ]
  },
  {
   "cell_type": "code",
   "execution_count": 10,
   "metadata": {},
   "outputs": [
    {
     "data": {
      "text/plain": [
       "10"
      ]
     },
     "metadata": {},
     "output_type": "display_data"
    }
   ],
   "source": [
    "nq = 10"
   ]
  },
  {
   "cell_type": "code",
   "execution_count": 11,
   "metadata": {},
   "outputs": [
    {
     "data": {
      "text/plain": [
       "Dict{UInt32, Float64} with 10 entries:\n",
       "  0x00000f00 => 0.1\n",
       "  0x0000000f => 0.1\n",
       "  0x00003c00 => 0.1\n",
       "  0x0000f000 => 0.1\n",
       "  0x0003c000 => 0.1\n",
       "  0x0000003c => 0.1\n",
       "  0x000000f0 => 0.1\n",
       "  0x000c0003 => 0.1\n",
       "  0x000f0000 => 0.1\n",
       "  0x000003c0 => 0.1"
      ]
     },
     "metadata": {},
     "output_type": "display_data"
    }
   ],
   "source": [
    "Zi = [[if i == j \n",
    "        :Z \n",
    "    else \n",
    "        :I \n",
    "    end\n",
    "        for i in 1:nq] for j in 1:nq]\n",
    "\n",
    "Zi_int = symboltoint.(Zi)\n",
    "sumZ = Dict(Zi_int[i] => 1.0/length(Zi_int)  for i in 1:length(Zi_int))\n",
    "\n",
    "Xi = [[if i == j \n",
    "        :X\n",
    "    else \n",
    "        :I \n",
    "    end\n",
    "        for i in 1:nq] for j in 1:nq]\n",
    "\n",
    "Xi_int = symboltoint.(Xi)\n",
    "sumX = Dict(Xi_int[i] => 1.0/length(Xi_int) for i in 1:length(Xi_int))\n",
    "\n",
    "\n",
    "\n",
    "XXij = [[if i == j%nq + 1 || i == (j+1)%nq + 1\n",
    "        :X\n",
    "    else \n",
    "        :I \n",
    "    end\n",
    "        for i in 1:nq] for j in 0:nq-1]\n",
    "\n",
    "XXij_int = symboltoint.(XXij)\n",
    "sumXX = Dict(XXij_int[i] => 1.0/length(XXij_int)  for i in 1:length(XXij_int))\n",
    "\n",
    "ZZij = [[if i == j%nq + 1 || i == (j+1)%nq + 1\n",
    "        :Z\n",
    "    else \n",
    "        :I \n",
    "    end\n",
    "        for i in 1:nq] for j in 0:nq-1]\n",
    "\n",
    "ZZij_int = symboltoint.(ZZij)\n",
    "sumZZ = Dict(ZZij_int[i] => 1.0/length(ZZij_int)  for i in 1:length(ZZij_int))\n",
    "\n"
   ]
  },
  {
   "cell_type": "code",
   "execution_count": 4,
   "metadata": {},
   "outputs": [
    {
     "data": {
      "text/plain": [
       "Dict{UInt8, Float64} with 2 entries:\n",
       "  0x05 => 1.0\n",
       "  0x0f => 1.0"
      ]
     },
     "metadata": {},
     "output_type": "display_data"
    }
   ],
   "source": [
    "XXZZ = Dict(ZZij_int[1] => 1., XXij_int[1] => 1., )\n",
    "ZXXZ = Dict(ZZij_int[1] => 1., XXij_int[1] => 1., )"
   ]
  },
  {
   "cell_type": "code",
   "execution_count": 6,
   "metadata": {},
   "outputs": [
    {
     "name": "stdout",
     "output_type": "stream",
     "text": [
      "  0.000015 seconds (8 allocations: 864 bytes)\n"
     ]
    },
    {
     "data": {
      "text/plain": [
       "Dict{UInt8, Float64} with 8 entries:\n",
       "  0x4e => 0.125\n",
       "  0x1b => 0.125\n",
       "  0xb1 => 0.125\n",
       "  0x6c => 0.125\n",
       "  0xc6 => 0.125\n",
       "  0x93 => 0.125\n",
       "  0xe4 => 0.125\n",
       "  0x39 => 0.125"
      ]
     },
     "metadata": {},
     "output_type": "display_data"
    }
   ],
   "source": [
    "@time comm = commutator(sumXX, sumZZ, nq)"
   ]
  },
  {
   "cell_type": "code",
   "execution_count": 17,
   "metadata": {},
   "outputs": [
    {
     "name": "stdout",
     "output_type": "stream",
     "text": [
      "  0.000013 seconds (2 allocations: 64 bytes)\n",
      "  0.000014 seconds (2 allocations: 64 bytes)\n"
     ]
    },
    {
     "data": {
      "text/plain": [
       "(0 - 2im, 0x00000006)"
      ]
     },
     "metadata": {},
     "output_type": "display_data"
    }
   ],
   "source": [
    "@time comm = commutator(XXij_int[1], Zi_int[1])\n",
    "@time comm = commutator(XXij_int[1], Zi_int[1], nq)\n"
   ]
  }
 ],
 "metadata": {
  "kernelspec": {
   "display_name": "Julia 1.10.5",
   "language": "julia",
   "name": "julia-1.10"
  },
  "language_info": {
   "file_extension": ".jl",
   "mimetype": "application/julia",
   "name": "julia",
   "version": "1.10.5"
  }
 },
 "nbformat": 4,
 "nbformat_minor": 2
}
