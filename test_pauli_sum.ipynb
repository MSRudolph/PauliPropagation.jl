{
 "cells": [
  {
   "cell_type": "code",
   "execution_count": 1,
   "metadata": {},
   "outputs": [],
   "source": [
    "using Revise\n",
    "using PauliPropagation"
   ]
  },
  {
   "cell_type": "code",
   "execution_count": 18,
   "metadata": {},
   "outputs": [
    {
     "data": {
      "text/plain": [
       "2"
      ]
     },
     "metadata": {},
     "output_type": "display_data"
    }
   ],
   "source": [
    "nq = 2"
   ]
  },
  {
   "cell_type": "code",
   "execution_count": 19,
   "metadata": {},
   "outputs": [
    {
     "data": {
      "text/plain": [
       "Dict{UInt8, Float64} with 1 entry:\n",
       "  0x0f => 0.5"
      ]
     },
     "metadata": {},
     "output_type": "display_data"
    }
   ],
   "source": [
    "Zi = [[if i == j \n",
    "        :Z \n",
    "    else \n",
    "        :I \n",
    "    end\n",
    "        for i in 1:nq] for j in 1:nq]\n",
    "\n",
    "Zi_int = symboltoint.(Zi)\n",
    "sumZ = Dict(Zi_int[i] => 1.0/length(Zi_int)  for i in 1:length(Zi_int))\n",
    "\n",
    "Xi = [[if i == j \n",
    "        :X\n",
    "    else \n",
    "        :I \n",
    "    end\n",
    "        for i in 1:nq] for j in 1:nq]\n",
    "\n",
    "Xi_int = symboltoint.(Xi)\n",
    "sumX = Dict(Xi_int[i] => 1.0/length(Xi_int) for i in 1:length(Xi_int))\n",
    "\n",
    "\n",
    "\n",
    "XXij = [[if i == j%nq + 1 || i == (j+1)%nq + 1\n",
    "        :X\n",
    "    else \n",
    "        :I \n",
    "    end\n",
    "        for i in 1:nq] for j in 0:nq-1]\n",
    "\n",
    "XXij_int = symboltoint.(XXij)\n",
    "sumXX = Dict(XXij_int[i] => 1.0/length(XXij_int)  for i in 1:length(XXij_int))\n",
    "\n",
    "ZZij = [[if i == j%nq + 1 || i == (j+1)%nq + 1\n",
    "        :Z\n",
    "    else \n",
    "        :I \n",
    "    end\n",
    "        for i in 1:nq] for j in 0:nq-1]\n",
    "\n",
    "ZZij_int = symboltoint.(ZZij)\n",
    "sumZZ = Dict(ZZij_int[i] => 1.0/length(ZZij_int)  for i in 1:length(ZZij_int))\n",
    "\n"
   ]
  },
  {
   "cell_type": "code",
   "execution_count": 22,
   "metadata": {},
   "outputs": [
    {
     "data": {
      "text/plain": [
       "Dict{UInt8, Float64} with 2 entries:\n",
       "  0x05 => 1.0\n",
       "  0x0f => 1.0"
      ]
     },
     "metadata": {},
     "output_type": "display_data"
    }
   ],
   "source": [
    "XXZZ = Dict(ZZij_int[1] => 1., XXij_int[1] => 1., )\n",
    "ZXXZ = Dict(ZZij_int[1] => 1., XXij_int[1] => 1., )"
   ]
  },
  {
   "cell_type": "code",
   "execution_count": 20,
   "metadata": {},
   "outputs": [
    {
     "data": {
      "text/plain": [
       "Dict{UInt8, Float64}()"
      ]
     },
     "metadata": {},
     "output_type": "display_data"
    }
   ],
   "source": [
    "comm = commutator(sumXX, sumZZ)\n",
    "comm\n"
   ]
  },
  {
   "cell_type": "code",
   "execution_count": null,
   "metadata": {},
   "outputs": [],
   "source": []
  }
 ],
 "metadata": {
  "kernelspec": {
   "display_name": "Julia 1.10.5",
   "language": "julia",
   "name": "julia-1.10"
  },
  "language_info": {
   "file_extension": ".jl",
   "mimetype": "application/julia",
   "name": "julia",
   "version": "1.10.5"
  }
 },
 "nbformat": 4,
 "nbformat_minor": 2
}
