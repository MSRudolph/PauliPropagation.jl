{
 "cells": [
  {
   "cell_type": "code",
   "execution_count": 1,
   "metadata": {},
   "outputs": [],
   "source": [
    "using Revise\n",
    "using PauliPropagation"
   ]
  },
  {
   "cell_type": "code",
   "execution_count": 2,
   "metadata": {},
   "outputs": [
    {
     "data": {
      "text/plain": [
       "8"
      ]
     },
     "metadata": {},
     "output_type": "display_data"
    }
   ],
   "source": [
    "nq = 8"
   ]
  },
  {
   "cell_type": "code",
   "execution_count": 4,
   "metadata": {},
   "outputs": [
    {
     "data": {
      "text/plain": [
       "Dict{UInt16, Float64} with 8 entries:\n",
       "  0x0005 => 0.125\n",
       "  0x1400 => 0.125\n",
       "  0x0014 => 0.125\n",
       "  0x4001 => 0.125\n",
       "  0x0500 => 0.125\n",
       "  0x0050 => 0.125\n",
       "  0x0140 => 0.125\n",
       "  0x5000 => 0.125"
      ]
     },
     "metadata": {},
     "output_type": "display_data"
    }
   ],
   "source": [
    "Zi = [[if i == j \n",
    "        :Z \n",
    "    else \n",
    "        :I \n",
    "    end\n",
    "        for i in 1:nq] for j in 1:nq]\n",
    "\n",
    "Zi_int = symboltoint.(Zi)\n",
    "sumZ = Dict(Zi_int[i] => 1.0/length(Zi_int)  for i in 1:length(Zi_int))\n",
    "\n",
    "Xi = [[if i == j \n",
    "        :X\n",
    "    else \n",
    "        :I \n",
    "    end\n",
    "        for i in 1:nq] for j in 1:nq]\n",
    "\n",
    "Xi_int = symboltoint.(Xi)\n",
    "sumX = Dict(Xi_int[i] => 1.0/length(Xi_int) for i in 1:length(Xi_int))\n",
    "\n",
    "\n",
    "\n",
    "XXij = [[if i == j%nq + 1 || i == (j+1)%nq + 1\n",
    "        :X\n",
    "    else \n",
    "        :I \n",
    "    end\n",
    "        for i in 1:nq] for j in 0:nq-1]\n",
    "\n",
    "XXij_int = symboltoint.(XXij)\n",
    "sumXX = Dict(XXij_int[i] => 1.0/length(XXij_int)  for i in 1:length(XXij_int))\n"
   ]
  },
  {
   "cell_type": "code",
   "execution_count": 5,
   "metadata": {},
   "outputs": [
    {
     "name": "stdout",
     "output_type": "stream",
     "text": [
      "IIYIIIII\n",
      "YIIIIIII\n",
      "IIIIIYII\n",
      "IIIIIIYI\n",
      "IYIIIIII\n",
      "IIIIYIII\n",
      "IIIYIIII\n",
      "IIIIIIIY\n"
     ]
    },
    {
     "data": {
      "text/plain": [
       "8-element Vector{Nothing}:\n",
       " nothing\n",
       " nothing\n",
       " nothing\n",
       " nothing\n",
       " nothing\n",
       " nothing\n",
       " nothing\n",
       " nothing"
      ]
     },
     "metadata": {},
     "output_type": "display_data"
    }
   ],
   "source": [
    "comm = getnewoperator(sumX, sumZ)\n",
    "show.(keys(comm))"
   ]
  },
  {
   "cell_type": "code",
   "execution_count": null,
   "metadata": {},
   "outputs": [],
   "source": []
  }
 ],
 "metadata": {
  "kernelspec": {
   "display_name": "Julia 1.10.5",
   "language": "julia",
   "name": "julia-1.10"
  },
  "language_info": {
   "file_extension": ".jl",
   "mimetype": "application/julia",
   "name": "julia",
   "version": "1.10.5"
  }
 },
 "nbformat": 4,
 "nbformat_minor": 2
}
