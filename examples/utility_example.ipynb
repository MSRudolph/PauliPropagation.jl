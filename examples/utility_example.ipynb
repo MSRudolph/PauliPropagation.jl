{
 "cells": [
  {
   "cell_type": "code",
   "execution_count": 1,
   "id": "dbcedd6a-33b7-4592-97a1-99a47f04f956",
   "metadata": {},
   "outputs": [],
   "source": [
    "using PauliPropagation\n",
    "using Base.Threads\n",
    "using Plots"
   ]
  },
  {
   "cell_type": "code",
   "execution_count": 2,
   "id": "7cd59d27-5d89-42d0-9bb1-875f44899fff",
   "metadata": {},
   "outputs": [],
   "source": [
    "tn_extrapolated = [9.99999254e-01,  9.99593653e-01,  9.95720077e-01,  9.88301532e-01,\n",
    "        9.78553511e-01,  9.58023054e-01,  9.21986059e-01,  8.81726079e-01,\n",
    "        8.49816779e-01,  8.24900527e-01,  7.91257641e-01,  7.37435202e-01,\n",
    "        6.68573798e-01,  5.88096040e-01,  4.81874079e-01,  3.50316579e-01,\n",
    "        2.26709331e-01,  1.39724659e-01,  7.86639143e-02,  4.24124371e-02,\n",
    "        1.90595136e-02,  6.18879050e-03, -8.27168956e-04, -4.63372099e-03,\n",
    "       -7.05202121e-03, -7.68387421e-03, -6.33121142e-03, -4.32594440e-03,\n",
    "        6.52050191e-04,  1.72598340e-04,  5.64696020e-05, -7.70582375e-07]\n",
    "\n",
    "tn_angles = LinRange(0, π/2, length(tn_extrapolated));"
   ]
  },
  {
   "cell_type": "code",
   "execution_count": 3,
   "id": "c48b2a9a-9b8b-4aa2-8123-2a5743c434a8",
   "metadata": {},
   "outputs": [
    {
     "data": {
      "text/plain": [
       "kickedisingcircuit (generic function with 1 method)"
      ]
     },
     "execution_count": 3,
     "metadata": {},
     "output_type": "execute_result"
    }
   ],
   "source": [
    "function kickedisingcircuit(nq, nl; topology=nothing)\n",
    "    \n",
    "    # just in case a topology is not provided\n",
    "    if isnothing(topology)\n",
    "        topology = bricklayertopology(nq)\n",
    "    end\n",
    "    \n",
    "    # define a layer of parametrized Rx-gates\n",
    "    xlayer(circuit) = append!(circuit, (PauliGate([:X], [qind]) for qind in 1:nq))\n",
    "    \n",
    "    # define a layer of fixed ZZ(π/2)-gates\n",
    "    zzlayer(circuit) = append!(circuit, (PauliGate([:Z, :Z], pair, π/2) for pair in topology))\n",
    "    \n",
    "    # define the empty circuit\n",
    "    circuit = Gate[]\n",
    "    # append to the circuit\n",
    "    for _ in 1:nl\n",
    "        zzlayer(circuit)\n",
    "        xlayer(circuit)\n",
    "    end\n",
    "    \n",
    "    return circuit\n",
    "end"
   ]
  },
  {
   "cell_type": "code",
   "execution_count": 4,
   "id": "c5eb4678-66de-4dcf-ac1c-97e08bd6baf9",
   "metadata": {},
   "outputs": [
    {
     "data": {
      "text/plain": [
       "PauliString(nqubits: 127, 1.0 * IIIIIIIIIIIIIIIIIIII...)"
      ]
     },
     "execution_count": 4,
     "metadata": {},
     "output_type": "execute_result"
    }
   ],
   "source": [
    "# number of qubits\n",
    "nq = 127\n",
    "# the IBM Eagle topology\n",
    "topology = ibmeagletopology\n",
    "# 20 layers for the hardest simulation\n",
    "nl = 20\n",
    "# create the circuit\n",
    "const circuit = kickedisingcircuit(nq, nl; topology);\n",
    "# count the number of parameters\n",
    "const nparams = countparameters(circuit)\n",
    "# define the observable (note the index is 62 if you start with 0)\n",
    "const pstr = PauliString(nq, :Z, 63)"
   ]
  },
  {
   "cell_type": "code",
   "execution_count": 5,
   "id": "311c67d0-2cf9-4481-a176-c089934c0b25",
   "metadata": {},
   "outputs": [
    {
     "data": {
      "text/plain": [
       "onesimulation (generic function with 1 method)"
      ]
     },
     "execution_count": 5,
     "metadata": {},
     "output_type": "execute_result"
    }
   ],
   "source": [
    "# perform the simulation for one x-angle\n",
    "function onesimulation(angle; min_abs_coeff=0, max_weight=Inf)\n",
    "    # set the angles of the Rx gates\n",
    "    thetas = ones(nparams) * angle\n",
    "    # propagate\n",
    "    psum = propagate(circuit, pstr, thetas; min_abs_coeff, max_weight)\n",
    "    # overlap with the zero-state\n",
    "    return overlapwithzero(psum)\n",
    "end"
   ]
  },
  {
   "cell_type": "code",
   "execution_count": null,
   "id": "bb1311c4-1e02-4e34-b0fd-548b52c63050",
   "metadata": {},
   "outputs": [
    {
     "name": "stdout",
     "output_type": "stream",
     "text": [
      "  0.443960 seconds (3.34 M allocations: 130.168 MiB, 463.75% compilation time)\n",
      "  0.219989 seconds (3.24 M allocations: 123.933 MiB, 730.08% compilation time)\n",
      "  0.212681 seconds (6.52 M allocations: 217.457 MiB, 67.74% gc time, 42.88% compilation time)\n",
      "  0.168639 seconds (2.18 M allocations: 76.357 MiB, 85.44% gc time)\n",
      "  0.793544 seconds (19.66 M allocations: 666.539 MiB, 18.16% gc time, 263.57% compilation time)\n",
      "  0.586036 seconds (20.59 M allocations: 699.059 MiB, 24.59% gc time, 318.70% compilation time)\n",
      "  1.556342 seconds (73.54 M allocations: 2.194 GiB, 24.09% gc time, 105.62% compilation time)\n",
      "  2.515060 seconds (95.23 M allocations: 2.685 GiB, 48.04% gc time)\n",
      "  7.908962 seconds (304.22 M allocations: 8.566 GiB, 32.09% gc time, 26.44% compilation time)\n",
      " 16.927882 seconds (636.49 M allocations: 18.015 GiB, 35.20% gc time, 0.54% compilation time)\n",
      " 18.128618 seconds (609.86 M allocations: 17.225 GiB, 38.19% gc time)\n",
      "  8.929862 seconds (289.13 M allocations: 8.050 GiB, 39.23% gc time)\n",
      " 41.379294 seconds (1.30 G allocations: 36.337 GiB, 34.92% gc time, 3.97% compilation time)\n",
      " 84.186685 seconds (2.39 G allocations: 65.075 GiB, 31.64% gc time, 0.11% compilation time)\n",
      " 70.149698 seconds (1.83 G allocations: 48.753 GiB, 28.47% gc time)\n",
      " 36.675592 seconds (916.13 M allocations: 24.772 GiB, 27.82% gc time)\n",
      "163.182036 seconds (3.75 G allocations: 101.108 GiB, 27.34% gc time, 0.06% compilation time)\n",
      "240.910218 seconds (4.58 G allocations: 123.047 GiB, 24.84% gc time, 0.04% compilation time)\n",
      "214.534055 seconds (2.35 G allocations: 63.147 GiB, 19.98% gc time)\n"
     ]
    }
   ],
   "source": [
    "# set the truncations\n",
    "min_abs_coeff = 3e-5\n",
    "max_weight = 10\n",
    "\n",
    "# prepare everything and run\n",
    "x_angles = LinRange(0, π/2, 20)\n",
    "expectations = zeros(length(x_angles))\n",
    "t = @timed @threads for ii in eachindex(x_angles)\n",
    "    angle = x_angles[ii]\n",
    "    @time expectations[ii] = onesimulation(angle; min_abs_coeff, max_weight)\n",
    "end\n",
    "\n",
    "print(\"Total simulation time: \", t.time, \" seconds\")"
   ]
  },
  {
   "cell_type": "code",
   "execution_count": null,
   "id": "998354a7-d2b6-4e6c-a10d-009bba011c6a",
   "metadata": {},
   "outputs": [],
   "source": [
    "plot(tn_angles, tn_vals, label=\"Tensor network converged\", color=\"black\", linewidth=3)\n",
    "plot!(x_angles, expectations, marker=:circle, label=\"PP Max weight = $max_weight, Min coeff = $min_abs_coeff\", linewidth=3, color=\"royalblue\")\n"
   ]
  }
 ],
 "metadata": {
  "kernelspec": {
   "display_name": "Julia 1.10.2",
   "language": "julia",
   "name": "julia-1.10"
  },
  "language_info": {
   "file_extension": ".jl",
   "mimetype": "application/julia",
   "name": "julia",
   "version": "1.10.2"
  }
 },
 "nbformat": 4,
 "nbformat_minor": 5
}
