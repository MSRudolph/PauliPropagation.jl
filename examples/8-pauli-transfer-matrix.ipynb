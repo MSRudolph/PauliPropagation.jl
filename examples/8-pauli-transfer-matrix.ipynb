{
 "cells": [
  {
   "cell_type": "markdown",
   "id": "d705e803-83d0-483f-8caa-80bd86637069",
   "metadata": {},
   "source": [
    "## Pauli Transfer Matrix\n",
    "The Pauli Transfer Matrix(PTM) of a (potentially unitary) matrix is its representation in Pauli basis, i.e., how it acts on each Pauli string. While this package is based on transforming Pauli strings into one or many Pauli strings, most gates are not defined via the actual PT matrix. However, there are some tools that you can use to work with matrices, both in 0/1 basis and in Pauli basis, potentially to define your own gates. "
   ]
  },
  {
   "cell_type": "code",
   "execution_count": 1,
   "id": "93f6240e-2a5c-4e8a-804d-bccd612ab1d4",
   "metadata": {},
   "outputs": [],
   "source": [
    "using PauliPropagation\n",
    "using LinearAlgebra"
   ]
  },
  {
   "cell_type": "markdown",
   "id": "fc059138-cc53-431a-99f7-2ad6971b0d92",
   "metadata": {},
   "source": [
    "Let us generate a random 1-qubit unitary matrix via Pauli matrix exponentials:"
   ]
  },
  {
   "cell_type": "code",
   "execution_count": 2,
   "id": "7a741b5c-79b9-416a-948f-5b3e0bcf6879",
   "metadata": {},
   "outputs": [
    {
     "data": {
      "text/plain": [
       "2×2 Matrix{ComplexF64}:\n",
       " 0.857247-0.448517im   -0.245791-0.0595636im\n",
       " 0.245791-0.0595636im   0.857247+0.448517im"
      ]
     },
     "execution_count": 2,
     "metadata": {},
     "output_type": "execute_result"
    }
   ],
   "source": [
    "# The Pauli matrices are not exported\n",
    "using PauliPropagation: Xmat, Ymat, Zmat \n",
    "\n",
    "U = exp(-im * (randn() * Xmat + randn() * Ymat + randn() * Zmat))"
   ]
  },
  {
   "cell_type": "markdown",
   "id": "66f368b1-f683-4608-85a0-06338e300eb0",
   "metadata": {},
   "source": [
    "Verify that $U$ is unitary via $U \\cdot U^\\dagger = U^\\dagger \\cdot U = \\mathbb{1}$,"
   ]
  },
  {
   "cell_type": "code",
   "execution_count": 3,
   "id": "9243326b-4ab3-4ace-b5a6-633f25e644ca",
   "metadata": {},
   "outputs": [
    {
     "data": {
      "text/plain": [
       "true"
      ]
     },
     "execution_count": 3,
     "metadata": {},
     "output_type": "execute_result"
    }
   ],
   "source": [
    "U * U' ≈ U' * U ≈ I(2)"
   ]
  },
  {
   "cell_type": "markdown",
   "id": "29ceadaa-72cb-458c-919e-4c2d3907fa30",
   "metadata": {},
   "source": [
    "This unitary is in the very common 0/1 basis, also called the computational basis.\n",
    "Here is how you can transform it into the Pauli basis:"
   ]
  },
  {
   "cell_type": "code",
   "execution_count": 4,
   "id": "1c1e4594-90ce-4907-a9a3-fdd929647740",
   "metadata": {},
   "outputs": [
    {
     "data": {
      "text/plain": [
       "4×4 Matrix{Float64}:\n",
       " 1.0   0.0       0.0        0.0\n",
       " 0.0   0.476839  0.798259  -0.367976\n",
       " 0.0  -0.739698  0.59057    0.322604\n",
       " 0.0   0.474837  0.118361   0.872078"
      ]
     },
     "execution_count": 4,
     "metadata": {},
     "output_type": "execute_result"
    }
   ],
   "source": [
    "# note the default `heisenberg=true` kwarg\n",
    "Uptm = calculateptm(U)"
   ]
  },
  {
   "cell_type": "markdown",
   "id": "1e9405ee-79fe-4112-b211-9b1312c19fb4",
   "metadata": {},
   "source": [
    "This by default returns the PTM of `U` in the **Heisenberg** picture, i.e., how it acts in the backpropagation of Pauli strings - the default in this package.\n",
    "To get the Schrödinger version, you can take the transpose of this matrix or call `alculateptm(U, heisenberg=false)`."
   ]
  },
  {
   "cell_type": "markdown",
   "id": "28b65a75-0ee4-490c-b8a1-d981c72ef80d",
   "metadata": {},
   "source": [
    "To convince ourselves that `Uptm` is also a unitary in this basis, check $U_{ptm} \\cdot U_{ptm}^T = U_{ptm}^T \\cdot U_{ptm} = \\mathbb{1}$ due to unitaries being real-valued in this basis."
   ]
  },
  {
   "cell_type": "code",
   "execution_count": 5,
   "id": "97d60a96-3b38-41c0-9cd6-d3963c181aca",
   "metadata": {},
   "outputs": [
    {
     "data": {
      "text/plain": [
       "true"
      ]
     },
     "execution_count": 5,
     "metadata": {},
     "output_type": "execute_result"
    }
   ],
   "source": [
    "Uptm * transpose(Uptm) ≈ transpose(Uptm) * Uptm ≈ I(4)"
   ]
  },
  {
   "cell_type": "markdown",
   "id": "baa46151-e1f7-47fb-a844-2bc5e13ca3a7",
   "metadata": {},
   "source": [
    "Great, but what does this unitary even represent? We mentioned that it represents the action of `U` on Pauli strings. A 1-qubit gate can act on 4 Paulis, `I`, `X`, `Y`, and `Z`, each being represented as $(1, 0, 0, 0)^T$, $(0, 1, 0, 0)^T$, $(0, 0, 1, 0)^T$, and $(0, 0, 0, 1)^T$, respectively. `Uptm` thus describes how each of those column vectors or an arbitrary sum thereof is transformed.\n",
    "\n",
    "You might already find use for this, but we also support transforming these PTMs into PT maps that can be turned into gates."
   ]
  },
  {
   "cell_type": "code",
   "execution_count": 6,
   "id": "e46a95b4-adb0-4ed3-b57b-55d777ffda5f",
   "metadata": {},
   "outputs": [
    {
     "data": {
      "text/plain": [
       "4-element Vector{Vector{Tuple{UInt8, Float64}}}:\n",
       " [(0x00, 1.0)]\n",
       " [(0x01, 0.4768394920371281), (0x02, -0.7396984712638481), (0x03, 0.4748370988493844)]\n",
       " [(0x01, 0.7982591569056932), (0x02, 0.5905700300300628), (0x03, 0.11836113402001157)]\n",
       " [(0x01, -0.3679761096185268), (0x02, 0.322603799172014), (0x03, 0.872078191167396)]"
      ]
     },
     "execution_count": 6,
     "metadata": {},
     "output_type": "execute_result"
    }
   ],
   "source": [
    "ptmap = totransfermap(Uptm)"
   ]
  },
  {
   "cell_type": "markdown",
   "id": "e31d85e5-2cca-4a41-9753-4bea6e49e457",
   "metadata": {},
   "source": [
    "Remember that we encode our Pauli strings in integers, with single-qubit Paulis being 0 (`I`), 1 (`X`), 2 (`Y`), 3 (`Z`). If you index into `ptmap` with those numbers + 1, you will get the corresponding output Paulis with their coefficients. In other words, each entry of a PT map corresponds to a column of the PTM. The Paulis will be set onto the qubit index and the coefficients will be multiplied to the incoming Pauli string's coefficient.\n",
    "\n",
    "What we also see is that this unitary is 3-branching in Pauli basis. `X`, `Y`, and `Z` Paulis will each map to all three with different coefficients. We can define a `TransferMapGate` from PT map, specifying on what qubit it acts (here qubit 1)."
   ]
  },
  {
   "cell_type": "code",
   "execution_count": 7,
   "id": "22145691-687a-43f0-b65d-a917c90d2569",
   "metadata": {},
   "outputs": [
    {
     "data": {
      "text/plain": [
       "TransferMapGate{UInt8, Float64}(Vector{Tuple{UInt8, Float64}}[[(0x00, 1.0)], [(0x01, 0.4768394920371281), (0x02, -0.7396984712638481), (0x03, 0.4748370988493844)], [(0x01, 0.7982591569056932), (0x02, 0.5905700300300628), (0x03, 0.11836113402001157)], [(0x01, -0.3679761096185268), (0x02, 0.322603799172014), (0x03, 0.872078191167396)]], [1])"
      ]
     },
     "execution_count": 7,
     "metadata": {},
     "output_type": "execute_result"
    }
   ],
   "source": [
    "g = TransferMapGate(ptmap, 1)"
   ]
  },
  {
   "cell_type": "markdown",
   "id": "e18e4f47-903f-42c6-af29-5678ca666236",
   "metadata": {},
   "source": [
    "Keep in mind, however, that this gate is not parametrized. It always acts the same."
   ]
  },
  {
   "cell_type": "code",
   "execution_count": 8,
   "id": "ace51a74-5806-403b-a6f1-36b9f0af84c0",
   "metadata": {},
   "outputs": [
    {
     "data": {
      "text/plain": [
       "true"
      ]
     },
     "execution_count": 8,
     "metadata": {},
     "output_type": "execute_result"
    }
   ],
   "source": [
    "g isa StaticGate"
   ]
  },
  {
   "cell_type": "markdown",
   "id": "c5f50d5d-ed4d-4241-b759-a6d8bc727b32",
   "metadata": {},
   "source": [
    "Finally, let us define a circuit consisting of this gate on every qubit: "
   ]
  },
  {
   "cell_type": "code",
   "execution_count": 9,
   "id": "a4b7f7c6-c799-403f-a91f-3fae3294a8b5",
   "metadata": {},
   "outputs": [
    {
     "data": {
      "text/plain": [
       "PauliString(nqubits: 6, 1.0 * ZZZYXX)"
      ]
     },
     "execution_count": 9,
     "metadata": {},
     "output_type": "execute_result"
    }
   ],
   "source": [
    "# 6 qubits\n",
    "nq = 6\n",
    "\n",
    "# define the circuit as a vector of gates\n",
    "circuit = [TransferMapGate(ptmap, qind) for qind in 1:nq];\n",
    "\n",
    "# make the observable a rabndom global Pauli string because the gate acts trivially on identities `I`\n",
    "pstr = PauliString(nq, [rand((:X, :Y, :Z)) for _ in 1:nq], 1:nq)"
   ]
  },
  {
   "cell_type": "code",
   "execution_count": 10,
   "id": "81c3ba29-19e4-4f12-8a21-e723706ad7b2",
   "metadata": {},
   "outputs": [
    {
     "data": {
      "text/plain": [
       "PauliSum(nqubits: 6, 729 Pauli terms:\n",
       " 0.021565 * ZXYYYX\n",
       " 0.058295 * XZZYXY\n",
       " -0.013901 * YZXYXX\n",
       " 0.029026 * XYZXYZ\n",
       " -0.0074999 * ZZXZZX\n",
       " -0.06908 * YZZXYX\n",
       " 0.015857 * XZXYXX\n",
       " -0.006951 * YYXXXX\n",
       " -0.050892 * YZZYZY\n",
       " -0.0068927 * YYXXZZ\n",
       " -0.18674 * ZZZXYX\n",
       " 0.0058411 * XXYYZX\n",
       " -0.0069218 * XYYXXZ\n",
       " 0.029148 * YZXXXY\n",
       " 0.032669 * YZZYZZ\n",
       " -0.025554 * YZYXYX\n",
       " 0.021433 * XZXXXX\n",
       " 0.012085 * ZYYYZZ\n",
       " -0.027572 * ZZZZZY\n",
       " -0.024598 * ZXXYXY\n",
       "  ⋮)"
      ]
     },
     "execution_count": 10,
     "metadata": {},
     "output_type": "execute_result"
    }
   ],
   "source": [
    "psum = propagate(circuit, pstr)"
   ]
  },
  {
   "cell_type": "markdown",
   "id": "ae8f4f2d-9b7b-4d67-8506-55dfa5dc40f4",
   "metadata": {},
   "source": [
    "And there you go, you can now easily define gates from their matrix representations, both in 0/1 basis or Pauli basis."
   ]
  }
 ],
 "metadata": {
  "kernelspec": {
   "display_name": "Julia 1.11.2",
   "language": "julia",
   "name": "julia-1.11"
  },
  "language_info": {
   "file_extension": ".jl",
   "mimetype": "application/julia",
   "name": "julia",
   "version": "1.11.2"
  }
 },
 "nbformat": 4,
 "nbformat_minor": 5
}
