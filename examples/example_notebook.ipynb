{
 "cells": [
  {
   "cell_type": "markdown",
   "id": "de85c434-1248-4264-9c4f-47b7d5763840",
   "metadata": {},
   "source": [
    "# Basic Example Notebook\n",
    "Hello and welcome to `PauliPropagation.jl` - a Julia package for Pauli propagation simulation of quantum circuits and quantum systems.\n",
    "\n",
    "That is, we estimate quantities like\n",
    "$ Tr[\\rho \\ \\mathcal{E}(\\hat{O})] $\n",
    "where $\\rho$ is an initial state, $\\mathcal{E}$ is a quantum channel that is not necessarily unitary, and $\\hat{O}$ is an observable preferrably sparse in Pauli basis.\n",
    "\n",
    "In the following we are going to introduce the basic concepts and datatypes of the package."
   ]
  },
  {
   "cell_type": "code",
   "execution_count": 1,
   "id": "647b2634",
   "metadata": {},
   "outputs": [],
   "source": [
    "using PauliPropagation"
   ]
  },
  {
   "cell_type": "markdown",
   "id": "0c72b650-8497-443f-8919-f839b0f318b2",
   "metadata": {},
   "source": [
    "Define the number of qubits in the simulation."
   ]
  },
  {
   "cell_type": "code",
   "execution_count": 2,
   "id": "6b7e0352",
   "metadata": {},
   "outputs": [
    {
     "data": {
      "text/plain": [
       "64"
      ]
     },
     "execution_count": 2,
     "metadata": {},
     "output_type": "execute_result"
    }
   ],
   "source": [
    "nq = 64"
   ]
  },
  {
   "cell_type": "markdown",
   "id": "573f1cf8-e21b-4180-9cb4-50d873caa857",
   "metadata": {},
   "source": [
    "Now define the observable $\\hat{O} = Z_{32} = I_1 \\otimes ... \\otimes I_{31} \\otimes Z_{32} \\otimes I_{33}... \\otimes I_{62}$.\n",
    "\n",
    "The `PauliString` type is our high-level way of handling Pauli strings. This above constructor defines a `PauliString` that has the only non-Identity Pauli at position 32.\n",
    "\n",
    "This library uses encodes Paulis into the bits of Integers for performance reasons, and also actions of gates onto Paulis are defined as bit operations. You can definitely get by just sticking to the high level interface. Check out some other example notebooks for more involved code."
   ]
  },
  {
   "cell_type": "code",
   "execution_count": 3,
   "id": "b8d96c9c",
   "metadata": {},
   "outputs": [
    {
     "data": {
      "text/plain": [
       "PauliString(nqubits: 64, 1.0 * IIIIIIIIIIIIIIIIIIII...)"
      ]
     },
     "execution_count": 3,
     "metadata": {},
     "output_type": "execute_result"
    }
   ],
   "source": [
    "pstr = PauliString(nq, :Z, 32)"
   ]
  },
  {
   "cell_type": "markdown",
   "id": "f4d8fae1-6240-44f9-8fd4-572ab95f9fa2",
   "metadata": {},
   "source": [
    "Now we specify the circuit that we want to run. We provide some simple constructors for common circuit ansätze. Here we use a generic circuit ansätz called the `hardwareefficientcircuit`. It consists of repeated RX- RZ - RX Pauli rotation gates intertwined with RYY entangling gates.\n",
    "\n",
    "For everything to work out, we need to specify the number of circuit layers and the entangling topology. By defailt we use the so-called 1D `bricklayertopology`, but you can customize a topology via an array or tuples like `[(1, 2), (1, 3), ...]`."
   ]
  },
  {
   "cell_type": "code",
   "execution_count": 4,
   "id": "3b33e38c",
   "metadata": {},
   "outputs": [
    {
     "data": {
      "text/plain": [
       "1020"
      ]
     },
     "execution_count": 4,
     "metadata": {},
     "output_type": "execute_result"
    }
   ],
   "source": [
    "nl = 4\n",
    "topology = bricklayertopology(nq; periodic=false)\n",
    "circuit = hardwareefficientcircuit(nq, nl; topology=topology)\n",
    "nparams = countparameters(circuit)"
   ]
  },
  {
   "cell_type": "markdown",
   "id": "e437e722-53c7-4fc9-a7e2-eebabb2246c0",
   "metadata": {},
   "source": [
    "This circuit has a total of 1020 Pauli rotation gates. Let us define some random vector of parameters."
   ]
  },
  {
   "cell_type": "code",
   "execution_count": 5,
   "id": "0a8db20a",
   "metadata": {},
   "outputs": [],
   "source": [
    "using Random\n",
    "Random.seed!(42)\n",
    "thetas = randn(nparams);"
   ]
  },
  {
   "cell_type": "markdown",
   "id": "fd71c65f-e765-48dd-997e-cd3fe50d2e7d",
   "metadata": {},
   "source": [
    "Now we get to the interesting part. The propagation of the Observable `pstr` through `circuit`. In other words, we apply the circuit onto the Pauli string."
   ]
  },
  {
   "cell_type": "markdown",
   "id": "a5ae8d7d-0d7b-41eb-b533-66c38fe1b223",
   "metadata": {},
   "source": [
    "First, let us do it exactly."
   ]
  },
  {
   "cell_type": "code",
   "execution_count": 6,
   "id": "b0a745e9-7ab0-4a72-a8b4-d74a2a3b32d5",
   "metadata": {},
   "outputs": [
    {
     "name": "stdout",
     "output_type": "stream",
     "text": [
      "  0.686875 seconds (594.09 k allocations: 83.708 MiB, 1.35% gc time, 43.52% compilation time)\n"
     ]
    },
    {
     "data": {
      "text/plain": [
       "PauliSum(nqubits: 64, 164692 Pauli terms:\n",
       " 4.027e-9 * IIIIIIIIIIIIIIIIIIII...\n",
       " 1.0319e-7 * IIIIIIIIIIIIIIIIIIII...\n",
       " -5.3954e-9 * IIIIIIIIIIIIIIIIIIII...\n",
       " 5.4961e-5 * IIIIIIIIIIIIIIIIIIII...\n",
       " -1.9635e-10 * IIIIIIIIIIIIIIIIIIII...\n",
       " 6.1435e-5 * IIIIIIIIIIIIIIIIIIII...\n",
       " 3.0334e-8 * IIIIIIIIIIIIIIIIIIII...\n",
       " -2.7134e-9 * IIIIIIIIIIIIIIIIIIII...\n",
       " 5.3742e-9 * IIIIIIIIIIIIIIIIIIII...\n",
       " -2.0534e-7 * IIIIIIIIIIIIIIIIIIII...\n",
       " -1.6002e-6 * IIIIIIIIIIIIIIIIIIII...\n",
       " -4.3295e-8 * IIIIIIIIIIIIIIIIIIII...\n",
       " 1.6012e-8 * IIIIIIIIIIIIIIIIIIII...\n",
       " 4.5844e-10 * IIIIIIIIIIIIIIIIIIII...\n",
       " -2.4033e-8 * IIIIIIIIIIIIIIIIIIII...\n",
       " 7.8656e-7 * IIIIIIIIIIIIIIIIIIII...\n",
       " -9.4308e-5 * IIIIIIIIIIIIIIIIIIII...\n",
       " -2.3263e-6 * IIIIIIIIIIIIIIIIIIII...\n",
       " -1.4941e-8 * IIIIIIIIIIIIIIIIIIII...\n",
       " 2.2601e-9 * IIIIIIIIIIIIIIIIIIII...\n",
       "  ⋮)"
      ]
     },
     "execution_count": 6,
     "metadata": {},
     "output_type": "execute_result"
    }
   ],
   "source": [
    "@time psum = propagate(circuit, pstr, thetas)"
   ]
  },
  {
   "cell_type": "markdown",
   "id": "4a273580-468d-4022-9d25-285e10ad6fc0",
   "metadata": {},
   "source": [
    "Just to run it again after Julia's jit-compilation:"
   ]
  },
  {
   "cell_type": "code",
   "execution_count": 7,
   "id": "8ae8105f-5522-4d84-8c2c-906465beacdf",
   "metadata": {},
   "outputs": [
    {
     "name": "stdout",
     "output_type": "stream",
     "text": [
      "  0.387542 seconds (2.21 k allocations: 45.745 MiB, 1.13% gc time)\n"
     ]
    }
   ],
   "source": [
    "@time propagate(circuit, pstr, thetas);"
   ]
  },
  {
   "cell_type": "markdown",
   "id": "2c5e7920-76cf-4e55-bda9-5fca36b68099",
   "metadata": {},
   "source": [
    "How is it possible that we can exactly run 64-qubit circuits? We leverage a concept referred to as the _entanglement lightcone_. But we don't do it manually, the Pauli propagation framework does it naturally. Still, we created over 160k Pauli strings in an object of type `PauliSum`. As the name suggests, this is a sum of Pauli strings. Be very mindful of the fact that the runtime will initially scale exponentially with the circuit depth!"
   ]
  },
  {
   "cell_type": "markdown",
   "id": "c9722bb8-5cca-4175-a9c0-5e5eaf1ad021",
   "metadata": {},
   "source": [
    "The `psum` object may already be of interest of you. But here is a quick and easy way how to evaluate the expectation value if initial state is the zero-state, i.e. $\\rho |0\\langle\\rangle 0|$."
   ]
  },
  {
   "cell_type": "code",
   "execution_count": 8,
   "id": "d14c19f8-2c42-4a5a-926c-d8fa910db087",
   "metadata": {},
   "outputs": [
    {
     "data": {
      "text/plain": [
       "0.3196162959450149"
      ]
     },
     "execution_count": 8,
     "metadata": {},
     "output_type": "execute_result"
    }
   ],
   "source": [
    "overlapwithzero(psum)"
   ]
  },
  {
   "cell_type": "markdown",
   "id": "4615b109-4d8f-4baf-80e3-39c9713682ea",
   "metadata": {},
   "source": [
    "Remember, this was an exact calculation. Well actually, our library has a default truncation threshold of Pauli strings with coefficients smaller than 1e-10. Here is how you control the minimum absolute coefficient threshold `min_abs_coeff`."
   ]
  },
  {
   "cell_type": "code",
   "execution_count": 9,
   "id": "06f2bc39-813f-4cad-8eb6-99094f249634",
   "metadata": {},
   "outputs": [
    {
     "name": "stdout",
     "output_type": "stream",
     "text": [
      "  0.459919 seconds (80.22 k allocations: 50.950 MiB, 1.35% gc time, 16.26% compilation time)\n"
     ]
    },
    {
     "data": {
      "text/plain": [
       "PauliSum(nqubits: 64, 173055 Pauli terms:\n",
       " 4.0274e-9 * IIIIIIIIIIIIIIIIIIII...\n",
       " 1.0319e-7 * IIIIIIIIIIIIIIIIIIII...\n",
       " -5.4141e-9 * IIIIIIIIIIIIIIIIIIII...\n",
       " 5.4961e-5 * IIIIIIIIIIIIIIIIIIII...\n",
       " -1.9553e-10 * IIIIIIIIIIIIIIIIIIII...\n",
       " 6.1435e-5 * IIIIIIIIIIIIIIIIIIII...\n",
       " 3.0334e-8 * IIIIIIIIIIIIIIIIIIII...\n",
       " -2.6915e-9 * IIIIIIIIIIIIIIIIIIII...\n",
       " 5.3999e-9 * IIIIIIIIIIIIIIIIIIII...\n",
       " -2.0534e-7 * IIIIIIIIIIIIIIIIIIII...\n",
       " -1.6002e-6 * IIIIIIIIIIIIIIIIIIII...\n",
       " -4.3295e-8 * IIIIIIIIIIIIIIIIIIII...\n",
       " 1.6008e-8 * IIIIIIIIIIIIIIIIIIII...\n",
       " 4.5844e-10 * IIIIIIIIIIIIIIIIIIII...\n",
       " -2.4032e-8 * IIIIIIIIIIIIIIIIIIII...\n",
       " 7.8656e-7 * IIIIIIIIIIIIIIIIIIII...\n",
       " -9.4308e-5 * IIIIIIIIIIIIIIIIIIII...\n",
       " -2.3263e-6 * IIIIIIIIIIIIIIIIIIII...\n",
       " -1.4951e-8 * IIIIIIIIIIIIIIIIIIII...\n",
       " 2.2597e-9 * IIIIIIIIIIIIIIIIIIII...\n",
       "  ⋮)"
      ]
     },
     "execution_count": 9,
     "metadata": {},
     "output_type": "execute_result"
    }
   ],
   "source": [
    "@time psum_exact = propagate(circuit, pstr, thetas; min_abs_coeff = 0)"
   ]
  },
  {
   "cell_type": "markdown",
   "id": "d9f8aec7-c871-4704-bbfb-d773e741e081",
   "metadata": {},
   "source": [
    "And the expectation value is pretty much the same."
   ]
  },
  {
   "cell_type": "code",
   "execution_count": 10,
   "id": "04d34e10-aaac-4abb-861e-a2a0cbf1ec8d",
   "metadata": {},
   "outputs": [
    {
     "name": "stdout",
     "output_type": "stream",
     "text": [
      "The error with our default truncation of `1e-10` is 3.773479306801164e-10"
     ]
    }
   ],
   "source": [
    "print(\"The error with our default truncation of `1e-10` is \", abs(overlapwithzero(psum_exact) - overlapwithzero(psum)))"
   ]
  },
  {
   "cell_type": "markdown",
   "id": "292b46a6-69b9-48db-8ba7-16937a454fb3",
   "metadata": {},
   "source": [
    "How about less strict truncation thresholds?"
   ]
  },
  {
   "cell_type": "code",
   "execution_count": 11,
   "id": "47479711-5866-43bf-b5e4-7ef8aa0743ea",
   "metadata": {},
   "outputs": [
    {
     "name": "stdout",
     "output_type": "stream",
     "text": [
      "  0.043798 seconds (61.19 k allocations: 5.179 MiB, 86.97% compilation time)\n"
     ]
    },
    {
     "data": {
      "text/plain": [
       "PauliSum(nqubits: 64, 1704 Pauli terms:\n",
       " 0.0010765 * IIIIIIIIIIIIIIIIIIII...\n",
       " 0.0017082 * IIIIIIIIIIIIIIIIIIII...\n",
       " 0.01189 * IIIIIIIIIIIIIIIIIIII...\n",
       " -0.0029782 * IIIIIIIIIIIIIIIIIIII...\n",
       " -0.001331 * IIIIIIIIIIIIIIIIIIII...\n",
       " 0.0045197 * IIIIIIIIIIIIIIIIIIII...\n",
       " 0.0013986 * IIIIIIIIIIIIIIIIIIII...\n",
       " 0.0023729 * IIIIIIIIIIIIIIIIIIII...\n",
       " -0.0053276 * IIIIIIIIIIIIIIIIIIII...\n",
       " 0.052407 * IIIIIIIIIIIIIIIIIIII...\n",
       " -0.0045722 * IIIIIIIIIIIIIIIIIIII...\n",
       " -0.0095782 * IIIIIIIIIIIIIIIIIIII...\n",
       " -0.0092645 * IIIIIIIIIIIIIIIIIIII...\n",
       " -0.012861 * IIIIIIIIIIIIIIIIIIII...\n",
       " -0.0052605 * IIIIIIIIIIIIIIIIIIII...\n",
       " 0.0058996 * IIIIIIIIIIIIIIIIIIII...\n",
       " 0.0019707 * IIIIIIIIIIIIIIIIIIII...\n",
       " -0.0099958 * IIIIIIIIIIIIIIIIIIII...\n",
       " 0.010155 * IIIIIIIIIIIIIIIIIIII...\n",
       " -0.014565 * IIIIIIIIIIIIIIIIIIII...\n",
       "  ⋮)"
      ]
     },
     "execution_count": 11,
     "metadata": {},
     "output_type": "execute_result"
    }
   ],
   "source": [
    "min_abs_coeff = 1e-3\n",
    "@time psum_coeff = propagate(circuit, pstr, thetas; min_abs_coeff = min_abs_coeff)"
   ]
  },
  {
   "cell_type": "code",
   "execution_count": 12,
   "id": "16b089b4-f661-4e62-b187-94e902d459b8",
   "metadata": {},
   "outputs": [
    {
     "name": "stdout",
     "output_type": "stream",
     "text": [
      "The error with `min_abs_coeff = 0.001` is 0.004851230411391183"
     ]
    }
   ],
   "source": [
    "print(\"The error with `min_abs_coeff = $min_abs_coeff` is \", abs(overlapwithzero(psum_exact) - overlapwithzero(psum_coeff)))"
   ]
  },
  {
   "cell_type": "markdown",
   "id": "b1735bc2-a948-4b8e-9a4c-c57e18079f20",
   "metadata": {},
   "source": [
    "The expectation value is still surprisingly precise."
   ]
  },
  {
   "cell_type": "markdown",
   "id": "ca2dfe62-ff8e-41ba-8cf5-603ef5a41e89",
   "metadata": {},
   "source": [
    "Another very general but powerful truncation is one based on _Pauli weight_. We can truncate Pauli strings that have many non-Identity Paulis, which has been proven to be a valid truncation for random circuits, but it also works well in practice. We can pass this as the keyword argument `max_weight`."
   ]
  },
  {
   "cell_type": "code",
   "execution_count": 13,
   "id": "bba5a13d-8a31-4343-ab15-c4fd790f85cf",
   "metadata": {},
   "outputs": [
    {
     "name": "stdout",
     "output_type": "stream",
     "text": [
      "  0.108168 seconds (81.40 k allocations: 8.104 MiB, 46.64% compilation time)\n"
     ]
    },
    {
     "data": {
      "text/plain": [
       "PauliSum(nqubits: 64, 16453 Pauli terms:\n",
       " -1.6207e-5 * IIIIIIIIIIIIIIIIIIII...\n",
       " 0.011987 * IIIIIIIIIIIIIIIIIIII...\n",
       " 7.3032e-5 * IIIIIIIIIIIIIIIIIIII...\n",
       " 7.8792e-8 * IIIIIIIIIIIIIIIIIIII...\n",
       " 6.5435e-10 * IIIIIIIIIIIIIIIIIIII...\n",
       " -9.1272e-9 * IIIIIIIIIIIIIIIIIIII...\n",
       " 1.8143e-8 * IIIIIIIIIIIIIIIIIIII...\n",
       " 1.7645e-10 * IIIIIIIIIIIIIIIIIIII...\n",
       " 0.00019728 * IIIIIIIIIIIIIIIIIIII...\n",
       " 0.00018569 * IIIIIIIIIIIIIIIIIIII...\n",
       " 0.00034955 * IIIIIIIIIIIIIIIIIIII...\n",
       " 7.9429e-6 * IIIIIIIIIIIIIIIIIIII...\n",
       " 0.0016765 * IIIIIIIIIIIIIIIIIIII...\n",
       " -1.2376e-8 * IIIIIIIIIIIIIIIIIIII...\n",
       " 2.6325e-7 * IIIIIIIIIIIIIIIIIIII...\n",
       " -0.00047972 * IIIIIIIIIIIIIIIIIIII...\n",
       " 6.0018e-10 * IIIIIIIIIIIIIIIIIIII...\n",
       " 0.00088951 * IIIIIIIIIIIIIIIIIIII...\n",
       " -4.7825e-6 * IIIIIIIIIIIIIIIIIIII...\n",
       " -9.0788e-5 * IIIIIIIIIIIIIIIIIIII...\n",
       "  ⋮)"
      ]
     },
     "execution_count": 13,
     "metadata": {},
     "output_type": "execute_result"
    }
   ],
   "source": [
    "max_weight = 5\n",
    "@time psum_weight = propagate(circuit, pstr, thetas; max_weight = max_weight)"
   ]
  },
  {
   "cell_type": "code",
   "execution_count": 14,
   "id": "97d9f3c8-e917-4580-bb2a-ca06ea7c32f4",
   "metadata": {},
   "outputs": [
    {
     "name": "stdout",
     "output_type": "stream",
     "text": [
      "The error with `max_weight = 5` is 0.0018570230051821457"
     ]
    }
   ],
   "source": [
    "print(\"The error with `max_weight = $max_weight` is \", abs(overlapwithzero(psum_exact) - overlapwithzero(psum_weight)))"
   ]
  },
  {
   "cell_type": "markdown",
   "id": "e398f960-b3cc-4fb1-80bc-b8b21da073bd",
   "metadata": {},
   "source": [
    "One mindset to adopt when using this package (or any other computational physics package for that matter), is that exact computation will quickly be infeasible. Truncations introduce a necessary trade-off between computational cost and accuracy."
   ]
  }
 ],
 "metadata": {
  "kernelspec": {
   "display_name": "Julia 1.10.2",
   "language": "julia",
   "name": "julia-1.10"
  },
  "language_info": {
   "file_extension": ".jl",
   "mimetype": "application/julia",
   "name": "julia",
   "version": "1.10.2"
  }
 },
 "nbformat": 4,
 "nbformat_minor": 5
}
