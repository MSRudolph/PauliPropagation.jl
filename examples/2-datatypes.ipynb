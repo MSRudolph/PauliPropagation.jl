{
 "cells": [
  {
   "cell_type": "markdown",
   "id": "a89ad832-47ab-43e7-9d04-363192d491ef",
   "metadata": {},
   "source": [
    "# Explaining our Data Types\n",
    "What are data types? In imprecise terms, they are wrappers around attributes or values that one can define computational behavior on. In the Julia programming language, one defines data types via a `struct`. \n",
    "\n",
    "Our most important data type is `PauliSum`, which is a wrapper for a sum of Pauli strings. What is a Pauli string? Mathematically they are a tensor product of single-qubit Pauli matrices. For example, $I \\otimes X \\otimes Z$ is a 3-qubit Pauli string."
   ]
  },
  {
   "cell_type": "code",
   "execution_count": 1,
   "id": "be08e82c-6d81-4c3b-a957-78f66ac84902",
   "metadata": {},
   "outputs": [],
   "source": [
    "using PauliPropagation"
   ]
  },
  {
   "cell_type": "markdown",
   "id": "ba8319cb-c44b-4358-9018-d71cf5890fb2",
   "metadata": {},
   "source": [
    "Let us start by defining an empty `PauliSum` on 3 qubits."
   ]
  },
  {
   "cell_type": "code",
   "execution_count": 18,
   "id": "fca055c2-ba19-4c56-aa69-ac51871f36f9",
   "metadata": {},
   "outputs": [
    {
     "data": {
      "text/plain": [
       "PauliSum(nqubits: 3, (no Pauli strings))"
      ]
     },
     "execution_count": 18,
     "metadata": {},
     "output_type": "execute_result"
    }
   ],
   "source": [
    "nqubits = 3\n",
    "\n",
    "psum = PauliSum(nqubits)"
   ]
  },
  {
   "cell_type": "markdown",
   "id": "7d2e9e92-d5c1-4b27-b228-9bc89aad82e6",
   "metadata": {},
   "source": [
    "If we inspect the Pauli sum `psum`, it carries two attributes: `nqubits` and `terms`."
   ]
  },
  {
   "cell_type": "code",
   "execution_count": 19,
   "id": "0ad622d8-966b-4b8b-8a0a-3a497f82e8db",
   "metadata": {},
   "outputs": [
    {
     "data": {
      "text/plain": [
       "3"
      ]
     },
     "execution_count": 19,
     "metadata": {},
     "output_type": "execute_result"
    }
   ],
   "source": [
    "psum.nqubits"
   ]
  },
  {
   "cell_type": "code",
   "execution_count": 20,
   "id": "79f82a55-c52a-4d79-bdf0-063dc2ed3255",
   "metadata": {},
   "outputs": [
    {
     "data": {
      "text/plain": [
       "Dict{UInt8, Float64}()"
      ]
     },
     "execution_count": 20,
     "metadata": {},
     "output_type": "execute_result"
    }
   ],
   "source": [
    "psum.terms"
   ]
  },
  {
   "cell_type": "markdown",
   "id": "58bf2072-746a-44ef-8d33-49088564f954",
   "metadata": {},
   "source": [
    "`terms` are the collection of Pauli strings and their respective coefficients. We store them as a dictionary, which is currently empty. It says the type of that dictionary is `Dict{UInt8, Float64`, and we will see what that means.\n",
    "\n",
    "Let us now add terms to the Pauli sum. We simply do this by calling the `add!()` function on `psum` with some extra information about the Pauli string that we want to add."
   ]
  },
  {
   "cell_type": "code",
   "execution_count": 21,
   "id": "b3327709-fce3-4607-b380-01c83550a509",
   "metadata": {},
   "outputs": [
    {
     "data": {
      "text/plain": [
       "PauliSum(nqubits: 3, 2 Pauli terms:\n",
       " 1.0 * IXI\n",
       " 0.5 * YIZ\n",
       ")"
      ]
     },
     "execution_count": 21,
     "metadata": {},
     "output_type": "execute_result"
    }
   ],
   "source": [
    "add!(psum, :X, 2)  # this adds 1.0 * IXI\n",
    "add!(psum, [:Y, :Z], [1, 3], 0.5)  # this adds 0.5 * YIZ\n",
    "\n",
    "psum  # the display order usually does not match the order in which you added the terms, but that is fine."
   ]
  },
  {
   "cell_type": "markdown",
   "id": "ebedf653-dc93-420a-96cd-a04c030afa30",
   "metadata": {},
   "source": [
    "Note that in the display qubits are indexed from left to right."
   ]
  },
  {
   "cell_type": "markdown",
   "id": "fb2a62fb-944e-47af-9c26-fd6cf15e2c11",
   "metadata": {},
   "source": [
    "We also have a `PauliString` data type, that can be nice to use at a high level. It can be created in the same ways that you can add to a `PauliSum` via `add!()`."
   ]
  },
  {
   "cell_type": "code",
   "execution_count": 22,
   "id": "8b543bef-e5da-4a34-80f1-60d2b3ef68b4",
   "metadata": {},
   "outputs": [
    {
     "data": {
      "text/plain": [
       "PauliString(nqubits: 3, 1.0 * IXY)"
      ]
     },
     "execution_count": 22,
     "metadata": {},
     "output_type": "execute_result"
    }
   ],
   "source": [
    "pstr = PauliString(nqubits, [:X, :Y], [2, 3])"
   ]
  },
  {
   "cell_type": "markdown",
   "id": "97dcba16-0467-4965-a414-19c78674a31a",
   "metadata": {},
   "source": [
    "`PauliString` has very similar attributes, `nqubits` and `term`. The latter is our efficient low-level implementation."
   ]
  },
  {
   "cell_type": "markdown",
   "id": "a07b2a32-18ff-481c-ab6e-3650aa28b97b",
   "metadata": {},
   "source": [
    "Internally we will always convert to `PauliSum`, but `PauliString` may be convenient for you. "
   ]
  },
  {
   "cell_type": "code",
   "execution_count": 23,
   "id": "c44a6c43-076e-461b-a71b-6a362faf84d8",
   "metadata": {},
   "outputs": [
    {
     "data": {
      "text/plain": [
       "PauliSum(nqubits: 3, 3 Pauli terms:\n",
       " 1.0 * IXI\n",
       " 0.5 * YIZ\n",
       " 1.0 * IXY\n",
       ")"
      ]
     },
     "execution_count": 23,
     "metadata": {},
     "output_type": "execute_result"
    }
   ],
   "source": [
    "# this works\n",
    "psum - pstr\n",
    "\n",
    "# this also works, and modifies psum in-place\n",
    "add!(psum, pstr)"
   ]
  },
  {
   "cell_type": "markdown",
   "id": "1fc8c76e-f05a-4cc8-8f13-2f6e72503e17",
   "metadata": {},
   "source": [
    "Let us now dig a bit deeper and look at the terms:"
   ]
  },
  {
   "cell_type": "code",
   "execution_count": 24,
   "id": "f1b2ba1e-5fb7-4c56-9bf2-4148a5b8c75b",
   "metadata": {},
   "outputs": [
    {
     "data": {
      "text/plain": [
       "Dict{UInt8, Float64} with 3 entries:\n",
       "  0x04 => 1.0\n",
       "  0x32 => 0.5\n",
       "  0x24 => 1.0"
      ]
     },
     "execution_count": 24,
     "metadata": {},
     "output_type": "execute_result"
    }
   ],
   "source": [
    "psum.terms"
   ]
  },
  {
   "cell_type": "markdown",
   "id": "db08e2cc-fc98-4f6e-8f12-2c5fb1432580",
   "metadata": {},
   "source": [
    "What are `0x04`, `0x32`, `0x24`? They are our low-level implementation of Pauli strings as unsigned integers, here as 8-bit unsigned integers `UInt8`. We encode the Pauli strings in the bits of an integer."
   ]
  },
  {
   "cell_type": "code",
   "execution_count": 26,
   "id": "7ee6a8ec-2abf-4390-9611-bc1616eef9e7",
   "metadata": {},
   "outputs": [
    {
     "name": "stdout",
     "output_type": "stream",
     "text": [
      "4\n",
      "50\n",
      "36\n"
     ]
    }
   ],
   "source": [
    "println(0x4)\n",
    "println(0x32)\n",
    "println(0x24)"
   ]
  },
  {
   "cell_type": "markdown",
   "id": "80bad93d-e228-4696-91c1-4fc8faeaa541",
   "metadata": {},
   "source": [
    "With the `Bits` package we can easily display the bits of the unsigned integer. Note that there qubits are indexed from right to left, but you do not need to remember this if you use our functions."
   ]
  },
  {
   "cell_type": "code",
   "execution_count": 27,
   "id": "5ce68428-4fc0-4f1a-bdb1-a7724975d7c7",
   "metadata": {},
   "outputs": [
    {
     "data": {
      "text/plain": [
       "<00110010>"
      ]
     },
     "execution_count": 27,
     "metadata": {},
     "output_type": "execute_result"
    }
   ],
   "source": [
    "using Bits\n",
    "bits(0x32)"
   ]
  },
  {
   "cell_type": "markdown",
   "id": "21d2dc8e-2c5e-4cae-ac76-cba9c838b2df",
   "metadata": {},
   "source": [
    "The above shows that the first Pauli (on the right) is `10` (the number 2), which is `Y`. The second is `00` (the number 0), which is `I`. The third is `11` (the number 3), which is `Z`. All bits beyond `2 * nqubits` will be zero. Under the hood, we try to use the smallest integer type that can carry the Pauli strings. \n",
    "\n",
    "This can also be checked in the following way:"
   ]
  },
  {
   "cell_type": "code",
   "execution_count": 28,
   "id": "db0b5e28-ebe2-4364-a371-5611d066f2ec",
   "metadata": {},
   "outputs": [
    {
     "data": {
      "text/plain": [
       "(true, true, true)"
      ]
     },
     "execution_count": 28,
     "metadata": {},
     "output_type": "execute_result"
    }
   ],
   "source": [
    "# use `getpauli(pstr, qind) to get the Paulis as 0, 1, 2, or 3 on the site `qind`\n",
    "getpauli(0x32, 1) == 2, getpauli(0x32, 2) == 0, getpauli(0x32, 3) == 3"
   ]
  },
  {
   "cell_type": "markdown",
   "id": "b96af417-4062-4c18-b865-181b366b3540",
   "metadata": {},
   "source": [
    "`getpauli()` and `setpauli()` are very useful functions for when you want to define your own gates. As a quick example:"
   ]
  },
  {
   "cell_type": "code",
   "execution_count": 29,
   "id": "85d6316f-c500-4444-a2a3-d574809fdb53",
   "metadata": {},
   "outputs": [
    {
     "name": "stdout",
     "output_type": "stream",
     "text": [
      "bits(pstr) = <00110010>\n",
      "bits(pstr_after) = <00100010>\n"
     ]
    },
    {
     "data": {
      "text/plain": [
       "0x22"
      ]
     },
     "execution_count": 29,
     "metadata": {},
     "output_type": "execute_result"
    }
   ],
   "source": [
    "pstr = 0x32\n",
    "@show bits(pstr)\n",
    "\n",
    "# set Pauli at qind 3 to Y\n",
    "qind = 3\n",
    "pauli = 2 # Y, 0x02 also works\n",
    "pstr_after = setpauli(pstr, pauli, qind)\n",
    "\n",
    "@show bits(pstr_after)\n",
    "\n",
    "pstr_after"
   ]
  }
 ],
 "metadata": {
  "kernelspec": {
   "display_name": "Julia 1.10.2",
   "language": "julia",
   "name": "julia-1.10"
  },
  "language_info": {
   "file_extension": ".jl",
   "mimetype": "application/julia",
   "name": "julia",
   "version": "1.10.2"
  }
 },
 "nbformat": 4,
 "nbformat_minor": 5
}
