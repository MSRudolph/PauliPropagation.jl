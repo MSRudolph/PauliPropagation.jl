{
 "cells": [
  {
   "cell_type": "markdown",
   "id": "408dfeb7-b2b3-4d84-bbb7-60708cf2b84a",
   "metadata": {},
   "source": [
    "# How to Define Custom Gates\n",
    "`PauliPropagation.jl` is extensible and allows you to define your own gates. Depending on how much you can or want to code, you can definte a gate that _works_ or one that is as fast as it gets. Here will see what you need to define."
   ]
  },
  {
   "cell_type": "code",
   "execution_count": 1,
   "id": "0b22a480-6916-476f-9fbb-edbe1c903b54",
   "metadata": {},
   "outputs": [],
   "source": [
    "using PauliPropagation"
   ]
  },
  {
   "cell_type": "markdown",
   "id": "eadc57bc-b112-413e-9302-92a86aa0df96",
   "metadata": {},
   "source": [
    "### A static gate that maps one Pauli string to one Pauli string"
   ]
  },
  {
   "cell_type": "markdown",
   "id": "84f3d8af-1fb2-46cc-8573-e835327acd38",
   "metadata": {},
   "source": [
    "Let us start by defining a `SWAP` gate. It is sub-typing from `StaticGate`, which denotes that it does not take any variable parameters at propagation time. It always acts the same."
   ]
  },
  {
   "cell_type": "code",
   "execution_count": 2,
   "id": "dc4079a1-daa9-4de0-9c6e-55bd27a0212f",
   "metadata": {},
   "outputs": [],
   "source": [
    "struct CustomSWAPGate <: StaticGate\n",
    "    qinds::Tuple{Int, Int}  # The two sites to be swapped\n",
    "end"
   ]
  },
  {
   "cell_type": "markdown",
   "id": "60d9de52-66f8-4b7a-8a12-f52570156556",
   "metadata": {},
   "source": [
    "The action of a `SWAP` gate on a Pauli string is that it swaps the Paulis on two sites. We can now define a function `apply` which receives these 3 arguments in this order, as well as potential `kwargs`: `apply(gate::YourGate, pstr, coeff; kwargs...)`. We can ignore `kwargs` for now, but you can use them to pass arguments from the top level down to your function. If your custom gate is parametrized, then you have you sub-type `ParametrizedGate` instead of `StaticGate`, and the `apply` function\n",
    "will receive a fourth argument, which is the parameter: `apply(gate::YourGate, pstr, coeff, theta; kwargs...)`."
   ]
  },
  {
   "cell_type": "markdown",
   "id": "e0eb198e-fa6a-453b-93d1-f3b0ddba1be8",
   "metadata": {},
   "source": [
    "This is how you can define `SWAP`:"
   ]
  },
  {
   "cell_type": "code",
   "execution_count": 3,
   "id": "c4bf6a24-dd05-467f-98cc-5a6ebfa3d6cc",
   "metadata": {},
   "outputs": [],
   "source": [
    "function PauliPropagation.apply(gate::CustomSWAPGate, pstr, coeff; kwargs...)\n",
    "    # get the Pauli on the first site\n",
    "    pauli1 = getpauli(pstr, gate.qinds[1])\n",
    "    # get the Pauli on the second site\n",
    "    pauli2 = getpauli(pstr, gate.qinds[2])\n",
    "    \n",
    "    # set the Pauli on the first site to the second Pauli\n",
    "    pstr = setpauli(pstr, pauli2, gate.qinds[1])\n",
    "    # set the Pauli on the second site to the first Pauli\n",
    "    pstr = setpauli(pstr, pauli1, gate.qinds[2])\n",
    "\n",
    "    # apply() is always expected to return a tuple of (pstr, coeff) tuples\n",
    "    return ((pstr, coeff),)\n",
    "end"
   ]
  },
  {
   "cell_type": "markdown",
   "id": "6dff040b-5a0e-4c77-af14-45daabba640b",
   "metadata": {},
   "source": [
    "This is it, really.\n",
    "\n",
    "`apply()` is expected to always return a tuple of `(pstr, coeff)` tuples. Here, only one Pauli string and its coefficient are returned, so we need to create a tuple of length one via `((pstr, coeff),)`. Alternatively `tuple((pstr, coeff))` also works. We will see later what to do with gates that create new Pauli strings."
   ]
  },
  {
   "cell_type": "markdown",
   "id": "ddc0eafd-3638-4a43-bf09-cf5e5a2ea167",
   "metadata": {},
   "source": [
    "Try the SWAP gate on a few very simple examples:"
   ]
  },
  {
   "cell_type": "code",
   "execution_count": 4,
   "id": "e8e4997e-1c63-4446-98d3-8018672f75c0",
   "metadata": {},
   "outputs": [
    {
     "name": "stdout",
     "output_type": "stream",
     "text": [
      "Paulis before: PauliSum(nqubits: 2, 1 Pauli term: \n",
      " 1.0 * XI\n",
      ")\n",
      "Paulis after: PauliSum(nqubits: 2, 1 Pauli term: \n",
      " 1.0 * IX\n",
      ")\n"
     ]
    }
   ],
   "source": [
    "# define the gate\n",
    "g = CustomSWAPGate((1, 2))\n",
    "\n",
    "# define a Pauli string\n",
    "pstr = PauliString(2, :X, 1)\n",
    "# turn into a PauliSum so it is easier to compare\n",
    "psum = PauliSum(pstr)\n",
    "println(\"Paulis before: \", psum)\n",
    "\n",
    "swapped_psum = propagate(g, psum)\n",
    "println(\"Paulis after: \", swapped_psum)"
   ]
  },
  {
   "cell_type": "code",
   "execution_count": 5,
   "id": "24872bdf-c2fd-4ce2-b410-500545132aac",
   "metadata": {},
   "outputs": [
    {
     "name": "stdout",
     "output_type": "stream",
     "text": [
      "Paulis before: PauliSum(nqubits: 3, 4 Pauli terms:\n",
      " 0.2 * IXI\n",
      " 0.3 * ZZI\n",
      " 0.4 * IYX\n",
      " 0.1 * XII\n",
      ")\n",
      "Paulis after: PauliSum(nqubits: 3, 4 Pauli terms:\n",
      " 0.3 * ZIZ\n",
      " 0.2 * IIX\n",
      " 0.4 * IXY\n",
      " 0.1 * XII\n",
      ")\n"
     ]
    }
   ],
   "source": [
    "nq = 3\n",
    "\n",
    "# define the gate\n",
    "g = CustomSWAPGate((2, 3))\n",
    "\n",
    "# add some initial Pauli strings\n",
    "psum = PauliSum(nq) \n",
    "add!(psum, :X, 1, 0.1)\n",
    "add!(psum, :X, 2, 0.2)\n",
    "add!(psum, [:Z, :Z], [1, 2], 0.3)\n",
    "add!(psum, [:Y, :X], [2, 3], 0.4)\n",
    "println(\"Paulis before: \", psum)\n",
    "\n",
    "swapped_psum = propagate(g, psum)\n",
    "println(\"Paulis after: \", swapped_psum)"
   ]
  },
  {
   "cell_type": "markdown",
   "id": "064ea498-e7b3-43e2-990d-c6601561ee50",
   "metadata": {},
   "source": [
    "This works! You can now freely plug such a gate into a circuit and let it swap your qubits.\n",
    "\n",
    "Consider a simple more wholistic example where we insert a layer of SWAP gates at the beginning of the circuit, which means at the end of the backpropagation."
   ]
  },
  {
   "cell_type": "code",
   "execution_count": 6,
   "id": "731d4805-6f27-408f-983a-2adeba846de9",
   "metadata": {},
   "outputs": [],
   "source": [
    "nq = 6\n",
    "\n",
    "# some initial observable\n",
    "pstr = PauliString(nq, [:X, :X], [3, 4])\n",
    "\n",
    "# a 1D bricklayer topology\n",
    "topology = bricklayertopology(nq)\n",
    "\n",
    "# an empty circuit\n",
    "circuit = Gate[]\n",
    "# an RX Pauli rotation layer\n",
    "rxlayer!(circuit, nq)\n",
    "# an RZ Pauli rotation layer\n",
    "rzlayer!(circuit, nq)\n",
    "# an RZZ Pauli rotation layer on the topology \n",
    "rzzlayer!(circuit, topology);\n",
    "\n",
    "\n",
    "# define some parameters\n",
    "using Random\n",
    "Random.seed!(420)\n",
    "nparams = countparameters(circuit)\n",
    "thetas = randn(nparams);"
   ]
  },
  {
   "cell_type": "markdown",
   "id": "38b318a6-0298-4353-a84c-f31b83e46615",
   "metadata": {},
   "source": [
    "Now define our custom layer of SWAP gates:"
   ]
  },
  {
   "cell_type": "code",
   "execution_count": 7,
   "id": "e2e2a8ac-006b-4446-8af7-b3f2029b48ea",
   "metadata": {},
   "outputs": [],
   "source": [
    "ourSWAPs = Gate[]\n",
    "# insert swaps flipping the order of qubits 4 to 6\n",
    "# 4 5 6 -> 5 4 6\n",
    "push!(ourSWAPs, CustomSWAPGate((4, 5)))\n",
    "# 5 4 6 -> 5 6 4\n",
    "push!(ourSWAPs, CustomSWAPGate((5, 6)))\n",
    "# 5 6 4 -> 6 5 4\n",
    "push!(ourSWAPs, CustomSWAPGate((4, 5)));"
   ]
  },
  {
   "cell_type": "code",
   "execution_count": 8,
   "id": "6fbf2ed9-705c-43c9-8b82-6e6c536b7ac2",
   "metadata": {},
   "outputs": [
    {
     "data": {
      "text/plain": [
       "20-element Vector{Gate}:\n",
       " CustomSWAPGate((4, 5))\n",
       " CustomSWAPGate((5, 6))\n",
       " CustomSWAPGate((4, 5))\n",
       " PauliRotation([:X], [1])\n",
       " PauliRotation([:X], [2])\n",
       " PauliRotation([:X], [3])\n",
       " PauliRotation([:X], [4])\n",
       " PauliRotation([:X], [5])\n",
       " PauliRotation([:X], [6])\n",
       " PauliRotation([:Z], [1])\n",
       " PauliRotation([:Z], [2])\n",
       " PauliRotation([:Z], [3])\n",
       " PauliRotation([:Z], [4])\n",
       " PauliRotation([:Z], [5])\n",
       " PauliRotation([:Z], [6])\n",
       " PauliRotation([:Z, :Z], [1, 2])\n",
       " PauliRotation([:Z, :Z], [3, 4])\n",
       " PauliRotation([:Z, :Z], [5, 6])\n",
       " PauliRotation([:Z, :Z], [2, 3])\n",
       " PauliRotation([:Z, :Z], [4, 5])"
      ]
     },
     "execution_count": 8,
     "metadata": {},
     "output_type": "execute_result"
    }
   ],
   "source": [
    "# this flattens the two circuits into one\n",
    "ourSWAP_circuit = [ourSWAPs..., circuit...]"
   ]
  },
  {
   "cell_type": "markdown",
   "id": "f51e382f-4993-49d1-b25d-1e0babfe4294",
   "metadata": {},
   "source": [
    "Propagate through the circuit and overlap with the zero state:"
   ]
  },
  {
   "cell_type": "code",
   "execution_count": 9,
   "id": "e35bb407-7aae-4854-b7d9-25b8ba32462f",
   "metadata": {},
   "outputs": [
    {
     "data": {
      "text/plain": [
       "PauliSum(nqubits: 6, 81 Pauli terms:\n",
       " -0.18621 * IZZIIY\n",
       " -0.022844 * IZXIZZ\n",
       " 0.095416 * IYXIIX\n",
       " -0.056601 * IIZIIY\n",
       " -0.060448 * IYZIYY\n",
       " 0.016621 * IYYIIY\n",
       " 0.010874 * IZYIYY\n",
       " 0.0090624 * IZYIZY\n",
       " 0.071515 * IZZIZY\n",
       " -0.0071724 * IIYIIY\n",
       " -0.018666 * IYYIIZ\n",
       " 0.13117 * IYZIIY\n",
       " -0.00766 * IYYIYY\n",
       " 0.020342 * IZXIZY\n",
       " -0.017985 * IZXIZX\n",
       " 0.042508 * IYYIIX\n",
       " 0.0033054 * IIYIYY\n",
       " 0.019309 * IYXIYZ\n",
       " -0.023063 * IIZIYX\n",
       " 0.026085 * IIZIYY\n",
       "  ⋮)"
      ]
     },
     "execution_count": 9,
     "metadata": {},
     "output_type": "execute_result"
    }
   ],
   "source": [
    "our_psum = propagate(ourSWAP_circuit, pstr, thetas)"
   ]
  },
  {
   "cell_type": "code",
   "execution_count": 10,
   "id": "0e5e6b55-21c4-4857-8b77-64c43e203503",
   "metadata": {},
   "outputs": [
    {
     "data": {
      "text/plain": [
       "0.16795162488187168"
      ]
     },
     "execution_count": 10,
     "metadata": {},
     "output_type": "execute_result"
    }
   ],
   "source": [
    "overlapwithzero(our_psum)"
   ]
  },
  {
   "cell_type": "markdown",
   "id": "80451520-22cb-4bbf-a63a-b4d8bab33555",
   "metadata": {},
   "source": [
    "This looks okay, but is it correct? One thing you may have noticed is that `SWAP` is a `Clifford` operation, i.e., one that takes one Pauli to exactly one other Pauli. We actually have that in our package so we can easily compare."
   ]
  },
  {
   "cell_type": "code",
   "execution_count": 11,
   "id": "11ea9064-dd5e-49dc-b277-78c4099ed75a",
   "metadata": {},
   "outputs": [],
   "source": [
    "cliffordSWAPs = Gate[]\n",
    "# insert swaps flipping the order of qubits 4 to 6\n",
    "# 4 5 6 -> 5 4 6\n",
    "push!(cliffordSWAPs, CliffordGate(:SWAP, (4, 5)))\n",
    "# 5 4 6 -> 5 6 4\n",
    "push!(cliffordSWAPs, CliffordGate(:SWAP, (5, 6)))\n",
    "# 5 6 4 -> 6 5 4\n",
    "push!(cliffordSWAPs, CliffordGate(:SWAP, (4, 5)));"
   ]
  },
  {
   "cell_type": "code",
   "execution_count": 12,
   "id": "a4894c8f-f965-4639-b5e6-e18d7d254fbf",
   "metadata": {},
   "outputs": [
    {
     "data": {
      "text/plain": [
       "20-element Vector{Gate}:\n",
       " CliffordGate(:SWAP, [4, 5])\n",
       " CliffordGate(:SWAP, [5, 6])\n",
       " CliffordGate(:SWAP, [4, 5])\n",
       " PauliRotation([:X], [1])\n",
       " PauliRotation([:X], [2])\n",
       " PauliRotation([:X], [3])\n",
       " PauliRotation([:X], [4])\n",
       " PauliRotation([:X], [5])\n",
       " PauliRotation([:X], [6])\n",
       " PauliRotation([:Z], [1])\n",
       " PauliRotation([:Z], [2])\n",
       " PauliRotation([:Z], [3])\n",
       " PauliRotation([:Z], [4])\n",
       " PauliRotation([:Z], [5])\n",
       " PauliRotation([:Z], [6])\n",
       " PauliRotation([:Z, :Z], [1, 2])\n",
       " PauliRotation([:Z, :Z], [3, 4])\n",
       " PauliRotation([:Z, :Z], [5, 6])\n",
       " PauliRotation([:Z, :Z], [2, 3])\n",
       " PauliRotation([:Z, :Z], [4, 5])"
      ]
     },
     "execution_count": 12,
     "metadata": {},
     "output_type": "execute_result"
    }
   ],
   "source": [
    "# this flattens the two circuits into one\n",
    "cliffordSWAP_circuit = [cliffordSWAPs..., circuit...]"
   ]
  },
  {
   "cell_type": "code",
   "execution_count": 13,
   "id": "77da19e6-2010-42e8-a334-c9fdd23610ea",
   "metadata": {},
   "outputs": [
    {
     "data": {
      "text/plain": [
       "PauliSum(nqubits: 6, 81 Pauli terms:\n",
       " -0.18621 * IZZIIY\n",
       " -0.022844 * IZXIZZ\n",
       " 0.095416 * IYXIIX\n",
       " -0.056601 * IIZIIY\n",
       " -0.060448 * IYZIYY\n",
       " 0.016621 * IYYIIY\n",
       " 0.010874 * IZYIYY\n",
       " 0.0090624 * IZYIZY\n",
       " 0.071515 * IZZIZY\n",
       " -0.0071724 * IIYIIY\n",
       " -0.018666 * IYYIIZ\n",
       " 0.13117 * IYZIIY\n",
       " -0.00766 * IYYIYY\n",
       " 0.020342 * IZXIZY\n",
       " -0.017985 * IZXIZX\n",
       " 0.042508 * IYYIIX\n",
       " 0.0033054 * IIYIYY\n",
       " 0.019309 * IYXIYZ\n",
       " -0.023063 * IIZIYX\n",
       " 0.026085 * IIZIYY\n",
       "  ⋮)"
      ]
     },
     "execution_count": 13,
     "metadata": {},
     "output_type": "execute_result"
    }
   ],
   "source": [
    "clifford_psum = propagate(cliffordSWAP_circuit, pstr, thetas)"
   ]
  },
  {
   "cell_type": "markdown",
   "id": "1c2ff706-4d38-4369-bcae-77ba945540a3",
   "metadata": {},
   "source": [
    "And these produce the same Pauli sum and consequently the same expectation!"
   ]
  },
  {
   "cell_type": "code",
   "execution_count": 14,
   "id": "37098f1d-28d7-40b6-99ad-42d8803bc8f8",
   "metadata": {},
   "outputs": [
    {
     "data": {
      "text/plain": [
       "true"
      ]
     },
     "execution_count": 14,
     "metadata": {},
     "output_type": "execute_result"
    }
   ],
   "source": [
    "our_psum == clifford_psum"
   ]
  },
  {
   "cell_type": "code",
   "execution_count": 15,
   "id": "d75097a3-8157-4ac7-afae-bffa49b60c81",
   "metadata": {},
   "outputs": [
    {
     "data": {
      "text/plain": [
       "0.16795162488187168"
      ]
     },
     "execution_count": 15,
     "metadata": {},
     "output_type": "execute_result"
    }
   ],
   "source": [
    "overlapwithzero(clifford_psum)"
   ]
  },
  {
   "cell_type": "markdown",
   "id": "163cad1d-8226-49e5-8df1-274202b84a99",
   "metadata": {},
   "source": [
    "### A parametrized custom noise channel\n",
    "The above example was not only a Clifford gate mapping one Pauli string to one Pauli string, but it was also not parametrized. We will now implement a funky custom and parametrized noise gate. Note that it may technically not be a valid quantum channel, but we can still define it and have it be part of the simulation."
   ]
  },
  {
   "cell_type": "code",
   "execution_count": 16,
   "id": "84f6ff09-f7b2-4b42-b0d0-2ac117472d63",
   "metadata": {},
   "outputs": [],
   "source": [
    "struct FunkyNoise <: ParametrizedGate\n",
    "    qinds::Tuple{Int, Int}  # say it acts on 2 qubits\n",
    "end"
   ]
  },
  {
   "cell_type": "markdown",
   "id": "59f1261f-4f70-4bb1-8f2d-565274f0dd4d",
   "metadata": {},
   "source": [
    "Say we want to define a noise gate with strength `p` that behaves in the following way:\n",
    "```\n",
    "XX -> (1 - 2p) * XX + p * IX + p * XI\n",
    "YY -> (1 - 2p) * YY + p * IY + p * YI\n",
    "ZZ -> (1 - 2p) * ZZ + p * IZ + p * ZI\n",
    "P -> P else\n",
    "```\n",
    "Let's now implement that."
   ]
  },
  {
   "cell_type": "code",
   "execution_count": 17,
   "id": "0477e3b2-e647-47f4-84e6-8294b5521aad",
   "metadata": {},
   "outputs": [],
   "source": [
    "# if your gate is a subtype of `ParametrizedGate`, `apply()` receives a fourth argument which is the parameter\n",
    "function PauliPropagation.apply(gate::FunkyNoise, pstr, coeff, p; kwargs...)\n",
    "    \n",
    "    # the integer representation of the Paulis sitting on the active sites\n",
    "    paulis = getpauli(pstr, gate.qinds)\n",
    "\n",
    "    # check whether the Paulis in `paulis` are the integer representations of our targets\n",
    "    # \"|\" is the OR operator\n",
    "    # if you replaced the (:X, :X), (:Y, :Y), or (:Z, :Z) by their integer representation,\n",
    "    # i.e., 5, 10, or 15, respectively, it would be faster \n",
    "    if ispauli(paulis, (:X, :X)) | ispauli(paulis, (:Y, :Y)) | ispauli(paulis, (:Z, :Z))\n",
    "        \n",
    "        # calculate the coefficients\n",
    "        coeff_PP = coeff * (1 - 2p)\n",
    "        coeff_IP = coeff_PI = coeff * p        \n",
    "\n",
    "        # create new Paulis that have I in the right position\n",
    "        # if you replace :I with the integer 0, it will be faster\n",
    "        pstr_IP = setpauli(pstr, :I, gate.qinds[1])\n",
    "        pstr_PI = setpauli(pstr, :I, gate.qinds[2])\n",
    "\n",
    "        return ((pstr, coeff_PP), (pstr_IP, coeff_IP), (pstr_PI, coeff_PI))\n",
    "    end\n",
    "\n",
    "    # else do nothing and return the original pstr and coefficient pair\n",
    "    return ((pstr, coeff),)\n",
    "end"
   ]
  },
  {
   "cell_type": "markdown",
   "id": "1e748f1b-9662-4ec7-b1a0-c293cf36a342",
   "metadata": {},
   "source": [
    "A was a bit more challenging than above, but we are done!"
   ]
  },
  {
   "cell_type": "code",
   "execution_count": 18,
   "id": "1b3698e4-0b90-4863-bef6-cf4878ee5fa7",
   "metadata": {},
   "outputs": [
    {
     "data": {
      "text/plain": [
       "0.1"
      ]
     },
     "execution_count": 18,
     "metadata": {},
     "output_type": "execute_result"
    }
   ],
   "source": [
    "nq = 2\n",
    "g = FunkyNoise((1, 2))\n",
    "p = 0.1"
   ]
  },
  {
   "cell_type": "code",
   "execution_count": 19,
   "id": "3c63946d-afc9-4f8c-bd55-aa849211faf4",
   "metadata": {},
   "outputs": [
    {
     "data": {
      "text/plain": [
       "PauliSum(nqubits: 2, 3 Pauli terms:\n",
       " 0.8 * XX\n",
       " 0.1 * IX\n",
       " 0.1 * XI\n",
       ")"
      ]
     },
     "execution_count": 19,
     "metadata": {},
     "output_type": "execute_result"
    }
   ],
   "source": [
    "# this branches\n",
    "pstr = PauliString(nq, [:X, :X], [1, 2])\n",
    "propagate(g, pstr, p)"
   ]
  },
  {
   "cell_type": "code",
   "execution_count": 20,
   "id": "00edefd0-c54d-45d8-8b7c-e9fd7fb8bf8d",
   "metadata": {},
   "outputs": [
    {
     "data": {
      "text/plain": [
       "PauliSum(nqubits: 2, 3 Pauli terms:\n",
       " 0.1 * YI\n",
       " 0.8 * YY\n",
       " 0.1 * IY\n",
       ")"
      ]
     },
     "execution_count": 20,
     "metadata": {},
     "output_type": "execute_result"
    }
   ],
   "source": [
    "# and this branches\n",
    "pstr = PauliString(nq, [:Y, :Y], [1, 2])\n",
    "propagate(g, pstr, p)"
   ]
  },
  {
   "cell_type": "code",
   "execution_count": 21,
   "id": "c176a222-e613-4243-9792-d506d965f904",
   "metadata": {},
   "outputs": [
    {
     "data": {
      "text/plain": [
       "PauliSum(nqubits: 2, 3 Pauli terms:\n",
       " 0.8 * ZZ\n",
       " 0.1 * IZ\n",
       " 0.1 * ZI\n",
       ")"
      ]
     },
     "execution_count": 21,
     "metadata": {},
     "output_type": "execute_result"
    }
   ],
   "source": [
    "# and this branches\n",
    "pstr = PauliString(nq, [:Z, :Z], [1, 2])\n",
    "propagate(g, pstr, p)"
   ]
  },
  {
   "cell_type": "code",
   "execution_count": 22,
   "id": "8194d5e7-c346-4c8b-b04f-bcf76bd73be1",
   "metadata": {},
   "outputs": [
    {
     "data": {
      "text/plain": [
       "PauliSum(nqubits: 2, 1 Pauli term: \n",
       " 1.0 * YZ\n",
       ")"
      ]
     },
     "execution_count": 22,
     "metadata": {},
     "output_type": "execute_result"
    }
   ],
   "source": [
    "# but not this\n",
    "pstr = PauliString(nq, [:Y, :Z], [1, 2])\n",
    "propagate(g, pstr, p)"
   ]
  },
  {
   "cell_type": "code",
   "execution_count": 23,
   "id": "ad2d434f-8c0a-4c5e-a978-40b97c7ccd76",
   "metadata": {},
   "outputs": [
    {
     "data": {
      "text/plain": [
       "PauliSum(nqubits: 2, 1 Pauli term: \n",
       " 1.0 * IX\n",
       ")"
      ]
     },
     "execution_count": 23,
     "metadata": {},
     "output_type": "execute_result"
    }
   ],
   "source": [
    "# or this\n",
    "pstr = PauliString(nq, [:I, :X], [1, 2])\n",
    "propagate(g, pstr, p)"
   ]
  },
  {
   "cell_type": "code",
   "execution_count": 24,
   "id": "cbcb6da3-3a96-4589-aa99-7ff022aff032",
   "metadata": {},
   "outputs": [
    {
     "data": {
      "text/plain": [
       "PauliSum(nqubits: 2, 1 Pauli term: \n",
       " 1.0 * II\n",
       ")"
      ]
     },
     "execution_count": 24,
     "metadata": {},
     "output_type": "execute_result"
    }
   ],
   "source": [
    "# or this\n",
    "pstr = PauliString(nq, [:I, :I], [1, 2])\n",
    "propagate(g, pstr, p)"
   ]
  },
  {
   "cell_type": "markdown",
   "id": "afb7cb29-f17f-4e99-8b8d-42ec07653d7f",
   "metadata": {},
   "source": [
    "This is how you can implement custom gates - by defining their action on Pauli strings (in the Heisenberg picture).\n",
    "\n",
    "The latter custom noise gate example especially could be implemented more efficiently via some lower level details, but this certainly works. This way of defining `apply()` for a gate that either branches into three or remains as one Pauli string is also usually not optimal because the compiler cannot infer from the input types whether the output will be a length 3 tuple or a length 1 tuple. This is related to type-stability ([some Julia docs](https://docs.julialang.org/en/v1/manual/performance-tips/#Write-%22type-stable%22-functions)) and a topic of a more advanced example notebook."
   ]
  }
 ],
 "metadata": {
  "kernelspec": {
   "display_name": "Julia 1.11.2",
   "language": "julia",
   "name": "julia-1.11"
  },
  "language_info": {
   "file_extension": ".jl",
   "mimetype": "application/julia",
   "name": "julia",
   "version": "1.11.2"
  }
 },
 "nbformat": 4,
 "nbformat_minor": 5
}
