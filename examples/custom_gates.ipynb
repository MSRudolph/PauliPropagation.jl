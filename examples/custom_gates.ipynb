{
 "cells": [
  {
   "cell_type": "markdown",
   "id": "408dfeb7-b2b3-4d84-bbb7-60708cf2b84a",
   "metadata": {},
   "source": [
    "# How to Define Custom Gates\n",
    "`PauliPropagation.jl` is extensible and allows you to define your own gates. Depending on how much you can or want to code, you can definte a gate that _works_ or one that is as fast as it gets. Here will see what you need to define."
   ]
  },
  {
   "cell_type": "code",
   "execution_count": 1,
   "id": "0b22a480-6916-476f-9fbb-edbe1c903b54",
   "metadata": {},
   "outputs": [],
   "source": [
    "using PauliPropagation"
   ]
  },
  {
   "cell_type": "markdown",
   "id": "84f3d8af-1fb2-46cc-8573-e835327acd38",
   "metadata": {},
   "source": [
    "Let us start by defining a `SWAP` gate. It is sub-typing from `StaticGate`, which denotes that it does not take any variable parameters at propagation time. It always acts the same."
   ]
  },
  {
   "cell_type": "code",
   "execution_count": 2,
   "id": "dc4079a1-daa9-4de0-9c6e-55bd27a0212f",
   "metadata": {},
   "outputs": [],
   "source": [
    "struct CustomSWAPGate <: StaticGate\n",
    "    qinds::Tuple{Int, Int}  # The two sites to be swapped\n",
    "end"
   ]
  },
  {
   "cell_type": "markdown",
   "id": "60d9de52-66f8-4b7a-8a12-f52570156556",
   "metadata": {},
   "source": [
    "The action of a `SWAP` gate on a Pauli string is that it swaps the Paulis on two sites. We can now define a function `apply` which receives these 4 arguments in this order, as well as potential `kwargs`: `apply(gate::YourGate, pstr, theta, coefficient; kwargs...)`. We can ignore `kwargs` for now, but you can use them to pass arguments from the top level down to your function. Also `theta` is always passed, but for `StaticGate`s you should ignore it.\n",
    "\n",
    "This is how you can define `SWAP`:"
   ]
  },
  {
   "cell_type": "code",
   "execution_count": 3,
   "id": "c4bf6a24-dd05-467f-98cc-5a6ebfa3d6cc",
   "metadata": {},
   "outputs": [],
   "source": [
    "function PauliPropagation.apply(gate::CustomSWAPGate, pstr, theta, coefficient; kwargs...)\n",
    "    # get the Pauli on the first site\n",
    "    pauli1 = getpauli(pstr, gate.qinds[1])\n",
    "    # get the Pauli on the second site\n",
    "    pauli2 = getpauli(pstr, gate.qinds[2])\n",
    "    \n",
    "    # set the Pauli on the first site to the second Pauli\n",
    "    pstr = setpauli(pstr, pauli2, gate.qinds[1])\n",
    "    # set the Pauli on the second site to the first Pauli\n",
    "    pstr = setpauli(pstr, pauli1, gate.qinds[2])\n",
    "\n",
    "    return pstr, coefficient\n",
    "end"
   ]
  },
  {
   "cell_type": "markdown",
   "id": "6dff040b-5a0e-4c77-af14-45daabba640b",
   "metadata": {},
   "source": [
    "This is it, really."
   ]
  },
  {
   "cell_type": "markdown",
   "id": "064ea498-e7b3-43e2-990d-c6601561ee50",
   "metadata": {},
   "source": [
    "Now set up the simulation. 25 qubits in a 5 by 5 grid."
   ]
  },
  {
   "cell_type": "code",
   "execution_count": 4,
   "id": "aee725d5-7c33-45c4-a112-e942cf7cb166",
   "metadata": {},
   "outputs": [],
   "source": [
    "nx = 5\n",
    "ny = 5\n",
    "nq = nx * ny\n",
    "\n",
    "topology = get2dtopology(nx, ny);"
   ]
  },
  {
   "cell_type": "markdown",
   "id": "076a61e1-9bcc-47b2-ba56-c91d26d43066",
   "metadata": {},
   "source": [
    "`nl` layers of a circuit consisting of `RX` and `RZZ` Pauli rotations."
   ]
  },
  {
   "cell_type": "code",
   "execution_count": 5,
   "id": "9b61ff79-b6e0-40e5-b640-bf3e2c102acf",
   "metadata": {},
   "outputs": [
    {
     "data": {
      "text/plain": [
       "195"
      ]
     },
     "execution_count": 5,
     "metadata": {},
     "output_type": "execute_result"
    }
   ],
   "source": [
    "nl = 3\n",
    "base_circuit = tfitrottercircuit(nq, nl; topology=topology);\n",
    "nparams = countparameters(base_circuit)"
   ]
  },
  {
   "cell_type": "markdown",
   "id": "61da20aa-95a7-4b2d-b8da-aff5c19bb8d7",
   "metadata": {},
   "source": [
    "Define our observable as $ Z_7 Z_{13} $."
   ]
  },
  {
   "cell_type": "code",
   "execution_count": 6,
   "id": "9f769c26-0f8f-47f6-bc73-a82d4c73bed2",
   "metadata": {},
   "outputs": [
    {
     "data": {
      "text/plain": [
       "PauliString(nqubits: 25, 1.0 * IIIIIIZIIIIIZIIIIIII...)"
      ]
     },
     "execution_count": 6,
     "metadata": {},
     "output_type": "execute_result"
    }
   ],
   "source": [
    "pstr = PauliString(nq, [:Z, :Z], [7, 13])"
   ]
  },
  {
   "cell_type": "markdown",
   "id": "8915098c-11af-4e99-b752-6c71fe63e628",
   "metadata": {},
   "source": [
    "Circuit parameters with a random seed."
   ]
  },
  {
   "cell_type": "code",
   "execution_count": 7,
   "id": "44eeb7d4-c2fd-462a-8140-a2311b84ec2c",
   "metadata": {},
   "outputs": [],
   "source": [
    "using Random\n",
    "Random.seed!(42)\n",
    "thetas = randn(nparams);"
   ]
  },
  {
   "cell_type": "markdown",
   "id": "408ed95b-75e7-4784-b89c-872585a7c90e",
   "metadata": {},
   "source": [
    "For this notebook, we will use a minimum coefficient threshold. The results are still almost exact."
   ]
  },
  {
   "cell_type": "code",
   "execution_count": 8,
   "id": "f2ba1549-1729-4919-8a49-153886d8bc7e",
   "metadata": {},
   "outputs": [
    {
     "data": {
      "text/plain": [
       "0.0001"
      ]
     },
     "execution_count": 8,
     "metadata": {},
     "output_type": "execute_result"
    }
   ],
   "source": [
    "min_abs_coeff = 1e-4"
   ]
  },
  {
   "cell_type": "markdown",
   "id": "0fa90be4-2f82-497c-8ff6-88b0dd8bb788",
   "metadata": {},
   "source": [
    "Now add a 1D line of SWAP gates after the first layer of gates in the base circuit."
   ]
  },
  {
   "cell_type": "code",
   "execution_count": 9,
   "id": "25b0cf38-771b-477b-a9ee-410ae137ec77",
   "metadata": {},
   "outputs": [
    {
     "data": {
      "text/plain": [
       "65"
      ]
     },
     "execution_count": 9,
     "metadata": {},
     "output_type": "execute_result"
    }
   ],
   "source": [
    "nparams_per_layer = Int(length(base_circuit)/nl)"
   ]
  },
  {
   "cell_type": "code",
   "execution_count": 10,
   "id": "5bac87f1-63d3-4cf9-a967-b22bae5aeda5",
   "metadata": {},
   "outputs": [],
   "source": [
    "ourSWAP_circuit = deepcopy(base_circuit);\n",
    "for qind in 1:(nq-1)\n",
    "    insert!(ourSWAP_circuit, nparams_per_layer, CustomSWAPGate((qind, qind+1)))\n",
    "end"
   ]
  },
  {
   "cell_type": "markdown",
   "id": "28a550b3-59af-4562-a2b2-233d08a9e224",
   "metadata": {},
   "source": [
    "Run the circuit"
   ]
  },
  {
   "cell_type": "code",
   "execution_count": 11,
   "id": "2516b107-b76b-43ee-bc75-919a95867c9e",
   "metadata": {},
   "outputs": [
    {
     "name": "stdout",
     "output_type": "stream",
     "text": [
      "  0.806805 seconds (595.44 k allocations: 101.505 MiB, 1.97% gc time, 67.80% compilation time)\n"
     ]
    },
    {
     "data": {
      "text/plain": [
       "PauliSum(nqubits: 25, 86652 Pauli terms:\n",
       " -0.00020048 * YZIZYYZZIZIYZIIIIIII...\n",
       " 0.00019386 * XIIIZIXIIIZYXIIZXZII...\n",
       " 0.0062958 * IIIIIZIIIIZIIIIIXZII...\n",
       " -0.00040887 * IIIIIYZZZIZXZYZZYIZI...\n",
       " -0.00040016 * YIIIZYXXZIIYIIIZXIII...\n",
       " 0.0015383 * IIIIIZIIZIXXYXZIXZZI...\n",
       " 0.00043597 * XZIIZIXIIIZXIIIZXIII...\n",
       " -0.0003435 * YZIZXIXIIIIZIIIIYIII...\n",
       " -0.00029089 * YZIIIXXZIIIXYZIZYIII...\n",
       " 0.00047305 * IIIIIYIIZIXXXXZIXIZI...\n",
       " 0.00012646 * YIIIIXIIZXYZXYZIIZZI...\n",
       " -0.00014033 * IZIIIIZZIIXYZIIZYIII...\n",
       " -0.0028668 * YIIIIXYIIIIXXZIIZIII...\n",
       " 0.00027333 * ZIIIIYIYIIZYYIIIZZII...\n",
       " -0.00027386 * ZIIZYIYIIZZIIIIIIIII...\n",
       " -0.00018862 * XIIIZYYIIIXYZIIZYIII...\n",
       " 0.00046973 * IIIIIYYIZIZYYYIZYZZI...\n",
       " 0.00017632 * YIIIZXIIZYZZXYZIIZZI...\n",
       " 0.00021627 * IIIIIXXZIIYYIIIIZIII...\n",
       " -0.00040872 * XIIIZYYZIIIXZIIZXIII...\n",
       "  ⋮)"
      ]
     },
     "execution_count": 11,
     "metadata": {},
     "output_type": "execute_result"
    }
   ],
   "source": [
    "@time ourSWAP_psum = propagate(ourSWAP_circuit, pstr, thetas; min_abs_coeff=min_abs_coeff)"
   ]
  },
  {
   "cell_type": "markdown",
   "id": "b7eae7d4-4f1b-4524-8d4e-e6823130de9b",
   "metadata": {},
   "source": [
    "Overlap with the zero-state"
   ]
  },
  {
   "cell_type": "code",
   "execution_count": 12,
   "id": "dc9b1559-fdf4-4135-8bb5-37d2ddb11d4c",
   "metadata": {},
   "outputs": [
    {
     "data": {
      "text/plain": [
       "0.2832103356627234"
      ]
     },
     "execution_count": 12,
     "metadata": {},
     "output_type": "execute_result"
    }
   ],
   "source": [
    "overlapwithzero(ourSWAP_psum)"
   ]
  },
  {
   "cell_type": "markdown",
   "id": "121dbd4c-ce94-46c5-95ce-2979904c3b67",
   "metadata": {},
   "source": [
    "This looks okay, but is it correct? One thing you may have noticed is that `SWAP` is a `Clifford` operation, i.e., one that takes one Pauli to exactly one other Pauli. We actually have that in our package so we can easily compare."
   ]
  },
  {
   "cell_type": "code",
   "execution_count": 13,
   "id": "b3dcebca-076f-43a0-ac41-7a8a433c83c3",
   "metadata": {},
   "outputs": [],
   "source": [
    "cliffSWAP_circuit = deepcopy(base_circuit);\n",
    "for qind in 1:(nq-1)\n",
    "    insert!(cliffSWAP_circuit, nparams_per_layer, CliffordGate(:SWAP, (qind, qind+1)))\n",
    "end"
   ]
  },
  {
   "cell_type": "code",
   "execution_count": 14,
   "id": "f17a59c4-7f4b-4442-9511-6b4af7f32cd1",
   "metadata": {},
   "outputs": [
    {
     "name": "stdout",
     "output_type": "stream",
     "text": [
      "  0.323095 seconds (63.59 k allocations: 67.480 MiB, 1.52% gc time, 22.11% compilation time)\n"
     ]
    }
   ],
   "source": [
    "@time cliffSWAP_psum = propagate(cliffSWAP_circuit, pstr, thetas; min_abs_coeff=min_abs_coeff);"
   ]
  },
  {
   "cell_type": "markdown",
   "id": "582d17cb-aed3-447b-ad06-777e71f8fa8e",
   "metadata": {},
   "source": [
    "Are the results the same?"
   ]
  },
  {
   "cell_type": "code",
   "execution_count": 15,
   "id": "b2625664-5f5e-4661-a65a-219df5d9a88f",
   "metadata": {},
   "outputs": [
    {
     "data": {
      "text/plain": [
       "0.2832103356627234"
      ]
     },
     "execution_count": 15,
     "metadata": {},
     "output_type": "execute_result"
    }
   ],
   "source": [
    "overlapwithzero(cliffSWAP_psum)"
   ]
  },
  {
   "cell_type": "code",
   "execution_count": 16,
   "id": "e7b12b2c-a928-4f15-8089-ed796cf09aa1",
   "metadata": {},
   "outputs": [
    {
     "data": {
      "text/plain": [
       "true"
      ]
     },
     "execution_count": 16,
     "metadata": {},
     "output_type": "execute_result"
    }
   ],
   "source": [
    "cliffSWAP_psum == ourSWAP_psum"
   ]
  },
  {
   "cell_type": "markdown",
   "id": "9ae7818a-f495-4d90-89ac-7e06805ff86c",
   "metadata": {},
   "source": [
    "Yes!"
   ]
  },
  {
   "cell_type": "markdown",
   "id": "6eb6b723-85a6-4674-b8f2-8db8292cadd8",
   "metadata": {},
   "source": [
    "We can also benchmark the performance."
   ]
  },
  {
   "cell_type": "code",
   "execution_count": 17,
   "id": "74c15519-9b2f-4855-b32b-7e4be30f0e01",
   "metadata": {},
   "outputs": [],
   "source": [
    "using BenchmarkTools"
   ]
  },
  {
   "cell_type": "code",
   "execution_count": 18,
   "id": "04263740-a991-4457-a4e5-fe6cefa6e36a",
   "metadata": {},
   "outputs": [
    {
     "name": "stdout",
     "output_type": "stream",
     "text": [
      "  235.937 ms (692 allocations: 63.30 MiB)\n"
     ]
    }
   ],
   "source": [
    "@btime propagate($ourSWAP_circuit, $pstr, $thetas; min_abs_coeff=$min_abs_coeff);"
   ]
  },
  {
   "cell_type": "code",
   "execution_count": 19,
   "id": "64c8025d-d5b6-4776-9225-1fd67c42ee57",
   "metadata": {},
   "outputs": [
    {
     "name": "stdout",
     "output_type": "stream",
     "text": [
      "  235.432 ms (692 allocations: 63.30 MiB)\n"
     ]
    }
   ],
   "source": [
    "@btime propagate($cliffSWAP_circuit, $pstr, $thetas; min_abs_coeff=$min_abs_coeff);"
   ]
  },
  {
   "cell_type": "markdown",
   "id": "b9d51976-b8c3-4c93-8da9-8ea29323b21c",
   "metadata": {},
   "source": [
    "No downside at all from defining our custom gate. How? This is because the `apply` function for this gate is *type stable*! Type stability is absolutely crucial in Julia, and codes live and die by it."
   ]
  },
  {
   "cell_type": "code",
   "execution_count": 20,
   "id": "2c1d22c7-0a5f-4c97-87aa-bd8a4c982dee",
   "metadata": {},
   "outputs": [
    {
     "name": "stdout",
     "output_type": "stream",
     "text": [
      "MethodInstance for PauliPropagation.apply(::CustomSWAPGate, ::UInt64, ::Float64, ::Float64)\n",
      "  from apply(\u001b[90mgate\u001b[39m::\u001b[1mCustomSWAPGate\u001b[22m, \u001b[90mpstr\u001b[39m, \u001b[90mtheta\u001b[39m, \u001b[90mcoefficient\u001b[39m; kwargs...)\u001b[90m @\u001b[39m \u001b[90mMain\u001b[39m \u001b[90m\u001b[4mIn[3]:1\u001b[24m\u001b[39m\n",
      "Arguments\n",
      "  #self#\u001b[36m::Core.Const(PauliPropagation.apply)\u001b[39m\n",
      "  gate\u001b[36m::CustomSWAPGate\u001b[39m\n",
      "  pstr\u001b[36m::UInt64\u001b[39m\n",
      "  theta\u001b[36m::Float64\u001b[39m\n",
      "  coefficient\u001b[36m::Float64\u001b[39m\n",
      "Body\u001b[36m::Tuple{UInt64, Float64}\u001b[39m\n",
      "\u001b[90m1 ─\u001b[39m %1 = Core.NamedTuple()\u001b[36m::Core.Const(NamedTuple())\u001b[39m\n",
      "\u001b[90m│  \u001b[39m %2 = Base.pairs(%1)\u001b[36m::Core.Const(Base.Pairs{Symbol, Union{}, Tuple{}, @NamedTuple{}}())\u001b[39m\n",
      "\u001b[90m│  \u001b[39m %3 = Main.:(var\"#apply#1\")(%2, #self#, gate, pstr, theta, coefficient)\u001b[36m::Tuple{UInt64, Float64}\u001b[39m\n",
      "\u001b[90m└──\u001b[39m      return %3\n",
      "\n"
     ]
    }
   ],
   "source": [
    "@code_warntype apply(CustomSWAPGate((7, 8)), pstr.term, 0.0, 1.0)"
   ]
  },
  {
   "cell_type": "markdown",
   "id": "d078a597-fb2e-4220-b23a-f3bc092c315f",
   "metadata": {},
   "source": [
    "All blue means that everything is great! If correctly implemented, `apply` will be type stable if it returns a known number of Pauli and coefficient pairs. Here it is just 1 because it is a Clifford gate."
   ]
  },
  {
   "cell_type": "markdown",
   "id": "d1eac59f-eaeb-4d4e-a3de-a195bdfcec2e",
   "metadata": {},
   "source": [
    "Onto an example of a gate that can _split_ a Pauli string into two: The `T` gate."
   ]
  },
  {
   "cell_type": "code",
   "execution_count": 21,
   "id": "140a9bfb-d504-4ea8-a8e1-f7300980ca9c",
   "metadata": {},
   "outputs": [],
   "source": [
    "struct CustomTGate <: StaticGate\n",
    "    qind::Int\n",
    "end"
   ]
  },
  {
   "cell_type": "markdown",
   "id": "1ab4607c-13fa-4097-85ed-ecc6f1b506ad",
   "metadata": {},
   "source": [
    "A `T` gate is a non-Clifford gate that commutes with `I` and `Z`, splits `X` into `cos(π/4)X - sin(π/4)Y`, and `Y` into `cos(π/4)Y + sin(π/4)X`. \n",
    "\n",
    "Let's write the code for that."
   ]
  },
  {
   "cell_type": "code",
   "execution_count": 22,
   "id": "156a7ba5-b494-4639-9247-b555d7f8e154",
   "metadata": {},
   "outputs": [],
   "source": [
    "function PauliPropagation.apply(gate::CustomTGate, pstr, theta, coefficient=1.0; kwargs...)\n",
    "    # get the Pauli on the site `gate.qind`\n",
    "    pauli = getpauli(pstr, gate.qind)\n",
    "    \n",
    "    if pauli == 0 || pauli == 3  # I or Z commute\n",
    "        return pstr, coefficient     \n",
    "    end\n",
    "    \n",
    "    if pauli == 1 # X goes to X, -Y\n",
    "        new_pauli = 2  # Y\n",
    "        # set the Pauli\n",
    "        new_pstr = setpauli(pstr, new_pauli, gate.qind)\n",
    "        # adapt the coefficients\n",
    "        new_coefficient = -1 * coefficient * sin(π/4)\n",
    "        coefficient_prime = coefficient * cos(π/4)\n",
    "        \n",
    "    else # Y goes to Y, X\n",
    "        new_pauli = 1  # X\n",
    "        # set the Pauli\n",
    "        new_pstr = setpauli(pstr, new_pauli, gate.qind)\n",
    "        # adapt the coefficients\n",
    "        new_coefficient = coefficient * sin(π/4)\n",
    "        coefficient_prime = coefficient * cos(π/4)\n",
    "    end\n",
    "    \n",
    "    return pstr, coefficient_prime, new_pstr, new_coefficient\n",
    "    \n",
    "end"
   ]
  },
  {
   "cell_type": "markdown",
   "id": "8d203259-0fbf-4937-b330-32f410e4455f",
   "metadata": {},
   "source": [
    "Insert a layer of `TGate`s after the first layer of the base circuit."
   ]
  },
  {
   "cell_type": "code",
   "execution_count": 23,
   "id": "caa0809d-0835-496e-898b-78deba1396a7",
   "metadata": {},
   "outputs": [],
   "source": [
    "ourT_circuit = deepcopy(base_circuit);\n",
    "for qind in 1:nq\n",
    "    insert!(ourT_circuit, nparams_per_layer, CustomTGate(qind))\n",
    "end"
   ]
  },
  {
   "cell_type": "markdown",
   "id": "5c1807ca-31e5-4cd7-8ebf-f3c039adee6d",
   "metadata": {},
   "source": [
    "And run:"
   ]
  },
  {
   "cell_type": "code",
   "execution_count": 24,
   "id": "1611eaa5-7780-4638-9684-6b25931e4a3f",
   "metadata": {},
   "outputs": [
    {
     "name": "stdout",
     "output_type": "stream",
     "text": [
      "  1.021635 seconds (6.01 M allocations: 319.650 MiB, 1.55% gc time, 10.01% compilation time)\n"
     ]
    },
    {
     "data": {
      "text/plain": [
       "PauliSum(nqubits: 25, 301012 Pauli terms:\n",
       " 0.00047325 * YXZIIZIYIIIIXZIIIZII...\n",
       " -0.00012269 * YXIIIIYIIIIZXIIIIXZI...\n",
       " 0.00047847 * IYXIIIZIIIIZYZIIIZII...\n",
       " 0.00054682 * XXZZIZXYYIIZXZIIIZII...\n",
       " -0.00051534 * ZXIIIXXYIIIZXIIIIYZI...\n",
       " -0.00017251 * IIIIIIIIZIIXIXZIXIZI...\n",
       " -0.00026819 * YZZIIYXXXIIIZZIIIIII...\n",
       " -0.00064832 * IXIIIIIXXIIZYZIIIZII...\n",
       " -0.00011407 * XYIIIZIIIIIIYZIIIZII...\n",
       " -0.00028261 * IIIZIZXZXIIZXXZIIIZI...\n",
       " -0.00030335 * IXIZIYYYYIIIZZIIIIII...\n",
       " -0.00021259 * ZYIIIIXXIIIZYIIIIXZI...\n",
       " -0.00063572 * IXIIIIXZIIIZXIIIIXII...\n",
       " 0.00071396 * IYIIIIXZIIIYYIIIIZII...\n",
       " 0.00038524 * IXIIIIIYIIIZYIIIIXZI...\n",
       " 0.00011024 * IIIIIIYIIIIXXIZIZXYZ...\n",
       " 0.00018963 * IIIIIZXIZIIIXXZIIYXI...\n",
       " 0.00012584 * IIIIIIXZZIIIZXZIIYXI...\n",
       " 0.000482 * YYZIIYXYIIIIYZIIIYZI...\n",
       " -0.00029259 * IZZIIIXYXIIZXIIIIYZI...\n",
       "  ⋮)"
      ]
     },
     "execution_count": 24,
     "metadata": {},
     "output_type": "execute_result"
    }
   ],
   "source": [
    "@time ourT_psum = propagate(ourT_circuit, pstr, thetas; min_abs_coeff=min_abs_coeff)"
   ]
  },
  {
   "cell_type": "code",
   "execution_count": 25,
   "id": "3b3ef2c7-0db3-468a-875c-58db2030ff0e",
   "metadata": {},
   "outputs": [
    {
     "data": {
      "text/plain": [
       "0.27720750460544175"
      ]
     },
     "execution_count": 25,
     "metadata": {},
     "output_type": "execute_result"
    }
   ],
   "source": [
    "overlapwithzero(ourT_psum)"
   ]
  },
  {
   "cell_type": "markdown",
   "id": "eee2fc1a-b7f1-4077-91fb-5cfbc43e9904",
   "metadata": {},
   "source": [
    "But did it work? Again, we have an implementation of a `TGate` in our library. In case you are interested, we currently implement `T` gates as Pauli `Z` rotations at an angle of `π/4`. Let's compare to that."
   ]
  },
  {
   "cell_type": "code",
   "execution_count": 26,
   "id": "944769cb-5099-4341-85e3-75d400d2941f",
   "metadata": {},
   "outputs": [],
   "source": [
    "frozenZ_circuit = deepcopy(base_circuit);\n",
    "for qind in 1:nq\n",
    "    insert!(frozenZ_circuit, nparams_per_layer, TGate(qind))\n",
    "end\n",
    "tofastgates!(frozenZ_circuit, nq);"
   ]
  },
  {
   "cell_type": "markdown",
   "id": "bec1a12e-6e34-4869-8860-fb13d7b04baa",
   "metadata": {},
   "source": [
    "If you call `PauliGate(:Z, qind, parameter)`, this will create a so-called `FrozenGate` wrapping the parametrized `PauliGate`, with a fixed `parameter` at the time of circuit construction.\n",
    "\n",
    "Run it and compare"
   ]
  },
  {
   "cell_type": "code",
   "execution_count": 27,
   "id": "a225d8ed-12cd-4add-b4cc-d40e6c630067",
   "metadata": {},
   "outputs": [
    {
     "name": "stdout",
     "output_type": "stream",
     "text": [
      "  0.806765 seconds (10.32 k allocations: 154.798 MiB, 0.70% gc time, 1.16% compilation time)\n"
     ]
    }
   ],
   "source": [
    "@time frozenZ_psum = propagate(frozenZ_circuit, pstr, thetas; min_abs_coeff=min_abs_coeff);"
   ]
  },
  {
   "cell_type": "code",
   "execution_count": 28,
   "id": "73cafee4-44ce-4748-bd2e-346e86252a80",
   "metadata": {},
   "outputs": [
    {
     "data": {
      "text/plain": [
       "0.27720750460544175"
      ]
     },
     "execution_count": 28,
     "metadata": {},
     "output_type": "execute_result"
    }
   ],
   "source": [
    "overlapwithzero(frozenZ_psum)"
   ]
  },
  {
   "cell_type": "code",
   "execution_count": 29,
   "id": "f1900a3f-f6a6-4508-98e5-a699b4d63a91",
   "metadata": {},
   "outputs": [
    {
     "data": {
      "text/plain": [
       "true"
      ]
     },
     "execution_count": 29,
     "metadata": {},
     "output_type": "execute_result"
    }
   ],
   "source": [
    "frozenZ_psum == ourT_psum"
   ]
  },
  {
   "cell_type": "markdown",
   "id": "3e6bfe0f-e364-47ff-90a9-4ccbc4594bc5",
   "metadata": {},
   "source": [
    "It works! But is it optimal"
   ]
  },
  {
   "cell_type": "code",
   "execution_count": 30,
   "id": "758d6dea-54bd-4066-80cc-7c7ba62f9620",
   "metadata": {},
   "outputs": [],
   "source": [
    "using BenchmarkTools"
   ]
  },
  {
   "cell_type": "code",
   "execution_count": 31,
   "id": "674ddc77-449f-484e-8d4a-f62c4b666344",
   "metadata": {},
   "outputs": [
    {
     "name": "stdout",
     "output_type": "stream",
     "text": [
      "  870.700 ms (5917102 allocations: 313.49 MiB)\n"
     ]
    }
   ],
   "source": [
    "@btime propagate($ourT_circuit, $pstr, $thetas;min_abs_coeff=$min_abs_coeff);"
   ]
  },
  {
   "cell_type": "code",
   "execution_count": 32,
   "id": "59f97975-da4d-4226-a38a-a7fdf1389874",
   "metadata": {},
   "outputs": [
    {
     "name": "stdout",
     "output_type": "stream",
     "text": [
      "  770.170 ms (676 allocations: 154.14 MiB)\n"
     ]
    }
   ],
   "source": [
    "@btime propagate($frozenZ_circuit, $pstr, $thetas; min_abs_coeff=$min_abs_coeff);"
   ]
  },
  {
   "cell_type": "markdown",
   "id": "eb922ef4-6fc8-40d4-980d-884db617e0b8",
   "metadata": {},
   "source": [
    "No, because `apply` for the `CustomTGate` is not type-stable."
   ]
  },
  {
   "cell_type": "code",
   "execution_count": 33,
   "id": "7321c4cc-a738-44bb-a6ec-26d44b2ce350",
   "metadata": {},
   "outputs": [
    {
     "name": "stdout",
     "output_type": "stream",
     "text": [
      "MethodInstance for PauliPropagation.apply(::CustomTGate, ::UInt64, ::Float64, ::Float64)\n",
      "  from apply(\u001b[90mgate\u001b[39m::\u001b[1mCustomTGate\u001b[22m, \u001b[90mpstr\u001b[39m, \u001b[90mtheta\u001b[39m, \u001b[90mcoefficient\u001b[39m; kwargs...)\u001b[90m @\u001b[39m \u001b[90mMain\u001b[39m \u001b[90m\u001b[4mIn[22]:1\u001b[24m\u001b[39m\n",
      "Arguments\n",
      "  #self#\u001b[36m::Core.Const(PauliPropagation.apply)\u001b[39m\n",
      "  gate\u001b[36m::CustomTGate\u001b[39m\n",
      "  pstr\u001b[36m::UInt64\u001b[39m\n",
      "  theta\u001b[36m::Float64\u001b[39m\n",
      "  coefficient\u001b[36m::Float64\u001b[39m\n",
      "Body\u001b[33m\u001b[1m::Union{Tuple{UInt64, Float64}, Tuple{UInt64, Float64, UInt64, Float64}}\u001b[22m\u001b[39m\n",
      "\u001b[90m1 ─\u001b[39m %1 = Core.NamedTuple()\u001b[36m::Core.Const(NamedTuple())\u001b[39m\n",
      "\u001b[90m│  \u001b[39m %2 = Base.pairs(%1)\u001b[36m::Core.Const(Base.Pairs{Symbol, Union{}, Tuple{}, @NamedTuple{}}())\u001b[39m\n",
      "\u001b[90m│  \u001b[39m %3 = Main.:(var\"#apply#2\")(%2, #self#, gate, pstr, theta, coefficient)\u001b[33m\u001b[1m::Union{Tuple{UInt64, Float64}, Tuple{UInt64, Float64, UInt64, Float64}}\u001b[22m\u001b[39m\n",
      "\u001b[90m└──\u001b[39m      return %3\n",
      "\n"
     ]
    }
   ],
   "source": [
    "@code_warntype apply(CustomTGate(7), pstr.term, 0.0, 1.0)"
   ]
  },
  {
   "cell_type": "markdown",
   "id": "b1e1ed60-69d3-4216-ab2d-a22e1ec42c29",
   "metadata": {},
   "source": [
    "It either returns a tuple `Tuple{UInt64, Float64}` of length 2 or a tuple `Tuple{UInt64, Float64, UInt64, Float64}` of length 4. When this is the case, you may want to define some lower-level function under `propagate` for optimal performance. This is how we would do it. Yellow `@code_warntype` output means it might be okay (it is not that much slower after all), but be wary of red."
   ]
  },
  {
   "cell_type": "code",
   "execution_count": 34,
   "id": "132a562b-6d31-43a3-9aa3-d2e742dd47ed",
   "metadata": {},
   "outputs": [],
   "source": [
    "function PauliPropagation.applygatetoall!(gate::CustomTGate, theta, psum, second_psum, args...; kwargs...)\n",
    "\n",
    "    for (operator, coeff) in psum\n",
    "        applygatetoone!(gate, operator, coeff, theta, psum, second_psum; kwargs...)\n",
    "    end\n",
    "\n",
    "    return psum, second_psum  # don't swap psums around\n",
    "end\n",
    "\n",
    "\n",
    "function PauliPropagation.applygatetoone!(gate::CustomTGate, pstr, coefficient, theta, psum, second_psum, args...; kwargs...)\n",
    "    \n",
    "    pauli = getpauli(pstr, gate.qind)\n",
    "    \n",
    "    if pauli == 0 || pauli == 3  # I or Z commute\n",
    "        return\n",
    "    end\n",
    "\n",
    "    if pauli == 1 # X goes to X, -Y\n",
    "        new_pauli = 2  # Y\n",
    "        new_pstr = setpauli(pstr, new_pauli, gate.qind)\n",
    "        new_coefficient = -1 * coefficient * sin(π/4)\n",
    "    else # Y goes to Y, X\n",
    "        new_pauli = 1  # X\n",
    "        new_pstr = setpauli(pstr, new_pauli, gate.qind)\n",
    "        new_coefficient = coefficient * sin(π/4)\n",
    "    end\n",
    "\n",
    "    psum[pstr] = coefficient * cos(π/4)\n",
    "    second_psum[new_pstr] = new_coefficient\n",
    "\n",
    "    return\n",
    "end"
   ]
  },
  {
   "cell_type": "markdown",
   "id": "f0381eb3-c544-4431-ba79-f6c2df16b9b4",
   "metadata": {},
   "source": [
    "The first function re-definition is currently necessary but might change in the future. The second function is the interesting one. Here we manually update the coefficients in the propagating Pauli string dictionary for the Pauli string that already exist, and we add the new one to the second dictionary that will later be merged into the first.\n",
    "\n",
    "Let's see if this worked."
   ]
  },
  {
   "cell_type": "code",
   "execution_count": 35,
   "id": "47203eac-8bd1-4bd6-8a02-1e87bc55f871",
   "metadata": {},
   "outputs": [
    {
     "name": "stdout",
     "output_type": "stream",
     "text": [
      "  0.818788 seconds (23.16 k allocations: 155.615 MiB, 0.73% gc time, 4.62% compilation time: 100% of which was recompilation)\n"
     ]
    }
   ],
   "source": [
    "@time ourT_psum2 = propagate(ourT_circuit, pstr, thetas; min_abs_coeff=min_abs_coeff);"
   ]
  },
  {
   "cell_type": "code",
   "execution_count": 36,
   "id": "54848b0c-ba9c-4546-a0e1-ef92aa582882",
   "metadata": {},
   "outputs": [
    {
     "data": {
      "text/plain": [
       "0.27720750460544175"
      ]
     },
     "execution_count": 36,
     "metadata": {},
     "output_type": "execute_result"
    }
   ],
   "source": [
    "overlapwithzero(ourT_psum2)"
   ]
  },
  {
   "cell_type": "code",
   "execution_count": 37,
   "id": "b01942ef-32b3-4ce3-9065-3dac56e8fef7",
   "metadata": {},
   "outputs": [
    {
     "data": {
      "text/plain": [
       "true"
      ]
     },
     "execution_count": 37,
     "metadata": {},
     "output_type": "execute_result"
    }
   ],
   "source": [
    "ourT_psum == ourT_psum2"
   ]
  },
  {
   "cell_type": "markdown",
   "id": "cb09a23d-20d6-48dc-a0e6-3e2f1fe17046",
   "metadata": {},
   "source": [
    "And check the performance."
   ]
  },
  {
   "cell_type": "code",
   "execution_count": 38,
   "id": "2094c103-2d59-4c8b-b4f2-683e59dcd3c6",
   "metadata": {},
   "outputs": [
    {
     "name": "stdout",
     "output_type": "stream",
     "text": [
      "  781.611 ms (676 allocations: 154.14 MiB)\n"
     ]
    }
   ],
   "source": [
    "@btime propagate($ourT_circuit, $pstr, $thetas; min_abs_coeff=$min_abs_coeff);"
   ]
  },
  {
   "cell_type": "code",
   "execution_count": 39,
   "id": "e2e890e2-b929-4afb-8475-2b6ae9591b23",
   "metadata": {},
   "outputs": [
    {
     "name": "stdout",
     "output_type": "stream",
     "text": [
      "  773.096 ms (676 allocations: 154.14 MiB)\n"
     ]
    }
   ],
   "source": [
    "@btime propagate($frozenZ_circuit, $pstr, $thetas; min_abs_coeff=$min_abs_coeff);"
   ]
  },
  {
   "cell_type": "markdown",
   "id": "9011cb18-5648-4c7a-ac5c-a8d7063e7551",
   "metadata": {},
   "source": [
    "Enjoy defining custom and high-performance gates! "
   ]
  }
 ],
 "metadata": {
  "kernelspec": {
   "display_name": "Julia 1.10.2",
   "language": "julia",
   "name": "julia-1.10"
  },
  "language_info": {
   "file_extension": ".jl",
   "mimetype": "application/julia",
   "name": "julia",
   "version": "1.10.2"
  }
 },
 "nbformat": 4,
 "nbformat_minor": 5
}
