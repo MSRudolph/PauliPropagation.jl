{
 "cells": [
  {
   "cell_type": "code",
   "execution_count": 1,
   "id": "647b2634",
   "metadata": {},
   "outputs": [],
   "source": [
    "using Revise\n",
    "using PauliPropagation"
   ]
  },
  {
   "cell_type": "code",
   "execution_count": 2,
   "id": "6b7e0352",
   "metadata": {},
   "outputs": [
    {
     "data": {
      "text/plain": [
       "8"
      ]
     },
     "metadata": {},
     "output_type": "display_data"
    }
   ],
   "source": [
    "nq = 8"
   ]
  },
  {
   "cell_type": "code",
   "execution_count": 3,
   "id": "b8d96c9c",
   "metadata": {},
   "outputs": [
    {
     "data": {
      "text/plain": [
       "PauliString(nqubits: 8, 1.0 * IIIZIIII)"
      ]
     },
     "metadata": {},
     "output_type": "display_data"
    }
   ],
   "source": [
    "op = PauliString(nq, :Z, round(Int, nq/2))"
   ]
  },
  {
   "cell_type": "code",
   "execution_count": 4,
   "id": "3b33e38c",
   "metadata": {},
   "outputs": [
    {
     "data": {
      "text/plain": [
       "124"
      ]
     },
     "metadata": {},
     "output_type": "display_data"
    }
   ],
   "source": [
    "nl = 4\n",
    "topo = bricklayertopology(nq; periodic=false)\n",
    "# topo = get2dtopology(4, 4)\n",
    "circ = hardwareefficientcircuit(nq, nl; topology=topo)\n",
    "# circ = efficientsu2circuit(nq, nl; topology=topo)\n",
    "fastcirc = tofastgates(circ)\n",
    "m = length(fastcirc)"
   ]
  },
  {
   "cell_type": "code",
   "execution_count": 5,
   "id": "0a8db20a",
   "metadata": {},
   "outputs": [],
   "source": [
    "using Random\n",
    "Random.seed!(42)\n",
    "thetas = randn(m);"
   ]
  },
  {
   "cell_type": "code",
   "execution_count": 6,
   "id": "84f77657",
   "metadata": {},
   "outputs": [],
   "source": [
    "W = Inf;                   # maximal operator weight.\n",
    "min_abs_coeff = 0;          # neglect small coefficients. Only for numerical and hybrid PP."
   ]
  },
  {
   "cell_type": "markdown",
   "id": "fc387343",
   "metadata": {},
   "source": [
    "#### Numerical Pauli Propagation\n",
    "Propagates numerical coefficients."
   ]
  },
  {
   "cell_type": "code",
   "execution_count": 7,
   "id": "006a7f20-c621-44ad-9a3f-c09628227cb0",
   "metadata": {},
   "outputs": [
    {
     "data": {
      "text/plain": [
       "PauliSum(nqubits: 8, 1 Pauli term: \n",
       " 1.0 * IIIZIIII\n",
       ")"
      ]
     },
     "metadata": {},
     "output_type": "display_data"
    }
   ],
   "source": [
    "opsum = PauliSum(nq, op)"
   ]
  },
  {
   "cell_type": "code",
   "execution_count": 8,
   "id": "4caa66bb-d93f-4002-afef-a91440b5682e",
   "metadata": {},
   "outputs": [
    {
     "name": "stdout",
     "output_type": "stream",
     "text": [
      "  0.334097 seconds (644.95 k allocations: 46.200 MiB, 2.08% gc time, 79.72% compilation time)\n",
      "length(dnum) = 53247\n"
     ]
    },
    {
     "data": {
      "text/plain": [
       "0.21720058439757214"
      ]
     },
     "metadata": {},
     "output_type": "display_data"
    }
   ],
   "source": [
    "@time dnum = mergingbfs(fastcirc, op, thetas; max_weight=W, min_abs_coeff=min_abs_coeff);\n",
    "@show length(dnum)   # number of unique Pauli ops\n",
    "overlapwithzero(dnum) # expectation"
   ]
  },
  {
   "cell_type": "code",
   "execution_count": 9,
   "id": "93775be1",
   "metadata": {},
   "outputs": [
    {
     "name": "stdout",
     "output_type": "stream",
     "text": [
      "  0.072237 seconds (414 allocations: 3.790 MiB, 6.44% compilation time)\n",
      "length(dnum) = 53247\n"
     ]
    },
    {
     "data": {
      "text/plain": [
       "0.21720058439757214"
      ]
     },
     "metadata": {},
     "output_type": "display_data"
    }
   ],
   "source": [
    "@time dnum = mergingbfs(fastcirc, opsum, thetas; max_weight=W, min_abs_coeff=min_abs_coeff);\n",
    "@show length(dnum)   # number of unique Pauli ops\n",
    "overlapwithzero(dnum) # expectation"
   ]
  },
  {
   "cell_type": "markdown",
   "id": "c4169f57",
   "metadata": {},
   "source": [
    "#### Hybrid Pauli Propagation\n",
    "Propagates numerical coefficients, but can but truncated like the surrogate."
   ]
  },
  {
   "cell_type": "code",
   "execution_count": 10,
   "id": "4959866b",
   "metadata": {},
   "outputs": [
    {
     "data": {
      "text/plain": [
       "Inf"
      ]
     },
     "metadata": {},
     "output_type": "display_data"
    }
   ],
   "source": [
    "max_freq = Inf   # max frequency, i.e., max number of sines and cosines per path"
   ]
  },
  {
   "cell_type": "code",
   "execution_count": 11,
   "id": "4d38e155",
   "metadata": {},
   "outputs": [
    {
     "name": "stdout",
     "output_type": "stream",
     "text": [
      "  0.261978 seconds (1.05 M allocations: 59.153 MiB, 4.90% gc time, 66.60% compilation time)\n",
      "length(dhyb) = 53247\n"
     ]
    },
    {
     "data": {
      "text/plain": [
       "0.21720058439757214"
      ]
     },
     "metadata": {},
     "output_type": "display_data"
    }
   ],
   "source": [
    "wrapped_op = wrapcoefficients(op, NumericPathProperties)\n",
    "@time dhyb = mergingbfs!(fastcirc, wrapped_op, thetas; max_weight=W, max_freq=Inf, min_abs_coeff=min_abs_coeff);\n",
    "@show length(dhyb)\n",
    "overlapwithzero(dhyb)"
   ]
  },
  {
   "cell_type": "code",
   "execution_count": 12,
   "id": "9c9a2ebc",
   "metadata": {},
   "outputs": [
    {
     "data": {
      "text/plain": [
       "PauliSum(nqubits: 8, 53247 Pauli terms:\n",
       " PathProperty(9.3421e-7) * XZIIXXZX\n",
       " PathProperty(9.3651e-6) * IIIXIIZY\n",
       " PathProperty(3.8189e-6) * YZZIYXZX\n",
       " PathProperty(-0.00014415) * ZXYYYXII\n",
       " PathProperty(-1.2334e-6) * IZYZIIXY\n",
       " PathProperty(2.2079e-7) * XXIIYZXI\n",
       " PathProperty(1.4947e-7) * IZZXIZYZ\n",
       " PathProperty(3.2705e-7) * YYXIYYYZ\n",
       " PathProperty(-0.0035534) * YZIXXZII\n",
       " PathProperty(-5.7279e-7) * IXIYIIZX\n",
       " PathProperty(-3.3665e-6) * IYZZZYYX\n",
       " PathProperty(-8.1232e-9) * YIYZYIZZ\n",
       " PathProperty(4.2359e-8) * XIZZXXZZ\n",
       " PathProperty(-2.3432e-8) * XZZXZZYZ\n",
       " PathProperty(-0.00012064) * ZZXZZXII\n",
       " PathProperty(-4.8324e-8) * XZYXIYYZ\n",
       " PathProperty(-3.3641e-7) * XXXYIYXZ\n",
       " PathProperty(9.2096e-7) * IIIXZZXZ\n",
       " PathProperty(5.996e-7) * ZZYXYYYY\n",
       " PathProperty(-2.2674e-7) * XXXXZZXY\n",
       "  ⋮)"
      ]
     },
     "metadata": {},
     "output_type": "display_data"
    }
   ],
   "source": [
    "dhyb"
   ]
  },
  {
   "cell_type": "markdown",
   "id": "1ee6086e",
   "metadata": {},
   "source": [
    "#### Pauli Propagation Surrogate\n",
    "Builds a graph that can later be evaluated."
   ]
  },
  {
   "cell_type": "code",
   "execution_count": 13,
   "id": "923e0c79",
   "metadata": {},
   "outputs": [
    {
     "name": "stdout",
     "output_type": "stream",
     "text": [
      "  0.966576 seconds (11.60 M allocations: 627.516 MiB, 23.18% gc time, 27.99% compilation time)\n",
      "length(dsym) = 53247\n",
      "  0.088012 seconds (32.47 k allocations: 5.186 MiB, 43.18% compilation time)\n"
     ]
    },
    {
     "data": {
      "text/plain": [
       "225500"
      ]
     },
     "metadata": {},
     "output_type": "display_data"
    }
   ],
   "source": [
    "wrapped_op2 = wrapcoefficients(op, NodePathProperties)\n",
    "@time dsym = mergingbfs!(circ, wrapped_op2, zeros(m); max_weight=W, max_freq=max_freq);\n",
    "@show length(dsym)\n",
    "\n",
    "final_nodes = collect(pth.coeff for (obs, pth) in zerofilter(dsym));\n",
    "final_eval_node = PauliGateNode(parents=final_nodes, trig_inds=zeros(Int, length(final_nodes)), signs=ones(length(final_nodes)), param_idx=1, cummulative_value=0.0);\n",
    "resetnodes(final_eval_node)\n",
    "resetnodes(final_eval_node)\n",
    "@time eval_list = gettraceevalorder(final_eval_node, zeros(m));\n",
    "length(eval_list)  # The list of all nodes. The order is such that one can savely be evaluated after the other."
   ]
  },
  {
   "cell_type": "code",
   "execution_count": 14,
   "id": "09f28dbd",
   "metadata": {},
   "outputs": [
    {
     "name": "stdout",
     "output_type": "stream",
     "text": [
      "  0.060624 seconds (60.10 k allocations: 4.183 MiB, 58.08% compilation time)\n"
     ]
    },
    {
     "data": {
      "text/plain": [
       "0.2172005843975723"
      ]
     },
     "metadata": {},
     "output_type": "display_data"
    }
   ],
   "source": [
    "@time expectation(eval_list, thetas)    # This is actually not always faster than numerical propagation, but in interesting cases it is by a lot.\n",
    "                                        # making this always at least as fast is work in progress. Graph traversal is hard."
   ]
  }
 ],
 "metadata": {
  "kernelspec": {
   "display_name": "Julia 1.10.2",
   "language": "julia",
   "name": "julia-1.10"
  },
  "language_info": {
   "file_extension": ".jl",
   "mimetype": "application/julia",
   "name": "julia",
   "version": "1.10.2"
  }
 },
 "nbformat": 4,
 "nbformat_minor": 5
}
