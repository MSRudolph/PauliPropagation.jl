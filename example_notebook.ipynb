{
 "cells": [
  {
   "cell_type": "code",
   "execution_count": 1,
   "id": "647b2634",
   "metadata": {},
   "outputs": [],
   "source": [
    "using Revise\n",
    "using PauliPropagation"
   ]
  },
  {
   "cell_type": "code",
   "execution_count": 2,
   "id": "6b7e0352",
   "metadata": {},
   "outputs": [
    {
     "data": {
      "text/plain": [
       "8"
      ]
     },
     "execution_count": 2,
     "metadata": {},
     "output_type": "execute_result"
    }
   ],
   "source": [
    "nq = 8"
   ]
  },
  {
   "cell_type": "code",
   "execution_count": 3,
   "id": "b8d96c9c",
   "metadata": {},
   "outputs": [
    {
     "data": {
      "text/plain": [
       "PauliString(nqubits: 8, 1.0 * IIIZIIII)"
      ]
     },
     "execution_count": 3,
     "metadata": {},
     "output_type": "execute_result"
    }
   ],
   "source": [
    "op = PauliString(nq, :Z, round(Int, nq/2))"
   ]
  },
  {
   "cell_type": "code",
   "execution_count": 4,
   "id": "3b33e38c",
   "metadata": {},
   "outputs": [
    {
     "data": {
      "text/plain": [
       "124"
      ]
     },
     "execution_count": 4,
     "metadata": {},
     "output_type": "execute_result"
    }
   ],
   "source": [
    "nl = 4\n",
    "topo = bricklayertopology(nq; periodic=false)\n",
    "# topo = get2dtopology(4, 4)\n",
    "circ = hardwareefficientcircuit(nq, nl; topology=topo)\n",
    "# circ = efficientsu2circuit(nq, nl; topology=topo)\n",
    "fastcirc = tofastgates(circ)\n",
    "m = length(fastcirc)"
   ]
  },
  {
   "cell_type": "code",
   "execution_count": 5,
   "id": "0a8db20a",
   "metadata": {},
   "outputs": [],
   "source": [
    "using Random\n",
    "Random.seed!(42)\n",
    "thetas = randn(m);"
   ]
  },
  {
   "cell_type": "code",
   "execution_count": 6,
   "id": "84f77657",
   "metadata": {},
   "outputs": [],
   "source": [
    "W = Inf;                   # maximal operator weight.\n",
    "min_abs_coeff = 0;          # neglect small coefficients. Only for numerical and hybrid PP."
   ]
  },
  {
   "cell_type": "markdown",
   "id": "fc387343",
   "metadata": {},
   "source": [
    "#### Numerical Pauli Propagation\n",
    "Propagates numerical coefficients."
   ]
  },
  {
   "cell_type": "code",
   "execution_count": 7,
   "id": "006a7f20-c621-44ad-9a3f-c09628227cb0",
   "metadata": {},
   "outputs": [
    {
     "data": {
      "text/plain": [
       "PauliSum(nqubits: 8, 1 Pauli term: \n",
       " 1.0 * IIIZIIII\n",
       ")"
      ]
     },
     "execution_count": 7,
     "metadata": {},
     "output_type": "execute_result"
    }
   ],
   "source": [
    "opsum = PauliSum(nq, op)"
   ]
  },
  {
   "cell_type": "code",
   "execution_count": 8,
   "id": "4caa66bb-d93f-4002-afef-a91440b5682e",
   "metadata": {},
   "outputs": [
    {
     "name": "stdout",
     "output_type": "stream",
     "text": [
      "  0.372738 seconds (985.91 k allocations: 69.369 MiB, 3.58% gc time, 81.97% compilation time)\n",
      "length(dnum) = 53247\n"
     ]
    },
    {
     "data": {
      "text/plain": [
       "0.21720058439757214"
      ]
     },
     "execution_count": 8,
     "metadata": {},
     "output_type": "execute_result"
    }
   ],
   "source": [
    "@time dnum = mergingbfs(fastcirc, op, thetas; max_weight=W, min_abs_coeff=min_abs_coeff);\n",
    "@show length(dnum)   # number of unique Pauli ops\n",
    "overlapwithzero(dnum) # expectation"
   ]
  },
  {
   "cell_type": "code",
   "execution_count": 9,
   "id": "93775be1",
   "metadata": {},
   "outputs": [
    {
     "name": "stdout",
     "output_type": "stream",
     "text": [
      "  0.066222 seconds (359 allocations: 3.787 MiB)\n",
      "length(dnum) = 53247\n"
     ]
    },
    {
     "data": {
      "text/plain": [
       "0.21720058439757214"
      ]
     },
     "execution_count": 9,
     "metadata": {},
     "output_type": "execute_result"
    }
   ],
   "source": [
    "@time dnum = mergingbfs(fastcirc, opsum, thetas; max_weight=W, min_abs_coeff=min_abs_coeff);\n",
    "@show length(dnum)   # number of unique Pauli ops\n",
    "overlapwithzero(dnum) # expectation"
   ]
  },
  {
   "cell_type": "markdown",
   "id": "c4169f57",
   "metadata": {},
   "source": [
    "#### Hybrid Pauli Propagation\n",
    "Propagates numerical coefficients, but can but truncated like the surrogate."
   ]
  },
  {
   "cell_type": "code",
   "execution_count": 10,
   "id": "4959866b",
   "metadata": {},
   "outputs": [
    {
     "data": {
      "text/plain": [
       "Inf"
      ]
     },
     "execution_count": 10,
     "metadata": {},
     "output_type": "execute_result"
    }
   ],
   "source": [
    "max_freq = Inf   # max frequency, i.e., max number of sines and cosines per path"
   ]
  },
  {
   "cell_type": "code",
   "execution_count": 11,
   "id": "4d38e155",
   "metadata": {},
   "outputs": [
    {
     "name": "stdout",
     "output_type": "stream",
     "text": [
      "  0.194879 seconds (895.92 k allocations: 49.134 MiB, 4.05% gc time, 57.19% compilation time)\n",
      "length(dhyb) = 53247\n"
     ]
    },
    {
     "data": {
      "text/plain": [
       "0.21720058439757214"
      ]
     },
     "execution_count": 11,
     "metadata": {},
     "output_type": "execute_result"
    }
   ],
   "source": [
    "d = Dict(op.operator => NumericPathProperties(1.0))\n",
    "@time dhyb = mergingbfs!(fastcirc, d, thetas; max_weight=W, max_freq=Inf, min_abs_coeff=min_abs_coeff);\n",
    "@show length(dhyb)\n",
    "overlapwithzero(dhyb)"
   ]
  },
  {
   "cell_type": "code",
   "execution_count": 12,
   "id": "9c9a2ebc",
   "metadata": {},
   "outputs": [
    {
     "data": {
      "text/plain": [
       "Dict{UInt16, NumericPathProperties} with 53247 entries:\n",
       "  0x750d => NumericPathProperties(9.342063615803493e-7, nsins=18, ncos=9, freq=…\n",
       "  0xb040 => NumericPathProperties(9.36513557295548e-6, nsins=11, ncos=5, freq=2…\n",
       "  0x763e => NumericPathProperties(3.818927407510158e-6, nsins=16, ncos=8, freq=…\n",
       "  0x06a7 => NumericPathProperties(-0.0001441502376292454, nsins=13, ncos=8, fre…\n",
       "  0x90ec => NumericPathProperties(-1.2333560289051895e-6, nsins=16, ncos=8, fre…\n",
       "  0x1e05 => NumericPathProperties(2.2079024544367792e-7, nsins=17, ncos=9, freq…\n",
       "  0xec7c => NumericPathProperties(1.4947093598678283e-7, nsins=15, ncos=9, freq…\n",
       "  0xea1a => NumericPathProperties(3.270505758837586e-7, nsins=19, ncos=11, freq…\n",
       "  0x0d4e => NumericPathProperties(-0.0035533574412631294, nsins=11, ncos=6, fre…\n",
       "  0x7084 => NumericPathProperties(-5.727900984982438e-7, nsins=19, ncos=11, fre…\n",
       "  0x6bf8 => NumericPathProperties(-3.3665247394632922e-6, nsins=13, ncos=7, fre…\n",
       "  0xf2e2 => NumericPathProperties(-8.123208720289147e-9, nsins=19, ncos=11, fre…\n",
       "  0xf5f1 => NumericPathProperties(4.2359204503716784e-8, nsins=16, ncos=8, freq…\n",
       "  0xef7d => NumericPathProperties(-2.3431691700451155e-8, nsins=17, ncos=9, fre…\n",
       "  0x07df => NumericPathProperties(-0.00012063886116623598, nsins=10, ncos=5, fr…\n",
       "  0xe86d => NumericPathProperties(-4.8324363250977076e-8, nsins=19, ncos=12, fr…\n",
       "  0xd895 => NumericPathProperties(-3.3641267519710954e-7, nsins=18, ncos=10, fr…\n",
       "  0xdf40 => NumericPathProperties(9.209644347437583e-7, nsins=8, ncos=4, freq=2…\n",
       "  0xaa6f => NumericPathProperties(5.995964204493712e-7, nsins=19, ncos=10, freq…\n",
       "  0x9f55 => NumericPathProperties(-2.2673757070594606e-7, nsins=15, ncos=7, fre…\n",
       "  0x9ef3 => NumericPathProperties(5.4397733101996014e-8, nsins=16, ncos=8, freq…\n",
       "  0x7a8f => NumericPathProperties(-1.6300352023592077e-6, nsins=19, ncos=11, fr…\n",
       "  0xe5f6 => NumericPathProperties(-1.985978245867407e-6, nsins=14, ncos=8, freq…\n",
       "  0xf5a9 => NumericPathProperties(-3.8835455929065446e-7, nsins=17, ncos=10, fr…\n",
       "  0x91a8 => NumericPathProperties(-4.785369800227062e-6, nsins=14, ncos=8, freq…\n",
       "  ⋮      => ⋮"
      ]
     },
     "execution_count": 12,
     "metadata": {},
     "output_type": "execute_result"
    }
   ],
   "source": [
    "dhyb # TODO: fix this"
   ]
  },
  {
   "cell_type": "code",
   "execution_count": 13,
   "id": "a535f8b5-0a67-41ae-954d-390b1080ccc3",
   "metadata": {},
   "outputs": [
    {
     "name": "stdout",
     "output_type": "stream",
     "text": [
      "Dict{UInt16, NumericPathProperties} with 53247 entries:\n",
      "  XZIIXXZX => NumericPathProperties(9.342063615803493e-7, nsins=18, ncos=9, freq=40) \n",
      "  IIIXIIZY => NumericPathProperties(9.36513557295548e-6, nsins=11, ncos=5, freq=29) \n",
      "  YZZIYXZX => NumericPathProperties(3.818927407510158e-6, nsins=16, ncos=8, freq=42) \n",
      "  ZXYYYXII => NumericPathProperties(-0.0001441502376292454, nsins=13, ncos=8, freq=31) \n",
      "  IZYZIIXY => NumericPathProperties(-1.2333560289051895e-6, nsins=16, ncos=8, freq=36) \n",
      "  XXIIYZXI => NumericPathProperties(2.2079024544367792e-7, nsins=17, ncos=9, freq=35) \n",
      "  IZZXIZYZ => NumericPathProperties(1.4947093598678283e-7, nsins=15, ncos=9, freq=37) \n",
      "  YYXIYYYZ => NumericPathProperties(3.270505758837586e-7, nsins=19, ncos=11, freq=42) \n",
      "  YZIXXZII => NumericPathProperties(-0.0035533574412631294, nsins=11, ncos=6, freq=31) \n",
      "  IXIYIIZX => NumericPathProperties(-5.727900984982438e-7, nsins=19, ncos=11, freq=39) \n",
      "  IYZZZYYX => NumericPathProperties(-3.3665247394632922e-6, nsins=13, ncos=7, freq=37) \n",
      "  YIYZYIZZ => NumericPathProperties(-8.123208720289147e-9, nsins=19, ncos=11, freq=46) \n",
      "  XIZZXXZZ => NumericPathProperties(4.2359204503716784e-8, nsins=16, ncos=8, freq=43) \n",
      "  XZZXZZYZ => NumericPathProperties(-2.3431691700451155e-8, nsins=17, ncos=9, freq=41) \n",
      "  ZZXZZXII => NumericPathProperties(-0.00012063886116623598, nsins=10, ncos=5, freq=31) \n",
      "  XZYXIYYZ => NumericPathProperties(-4.8324363250977076e-8, nsins=19, ncos=12, freq=42) \n",
      "  XXXYIYXZ => NumericPathProperties(-3.3641267519710954e-7, nsins=18, ncos=10, freq=40) \n",
      "  IIIXZZXZ => NumericPathProperties(9.209644347437583e-7, nsins=8, ncos=4, freq=28) \n",
      "  ZZYXYYYY => NumericPathProperties(5.995964204493712e-7, nsins=19, ncos=10, freq=41) \n",
      "  XXXXZZXY => NumericPathProperties(-2.2673757070594606e-7, nsins=15, ncos=7, freq=38) \n",
      "  ⋮\n"
     ]
    }
   ],
   "source": [
    "show(dhyb)"
   ]
  },
  {
   "cell_type": "markdown",
   "id": "1ee6086e",
   "metadata": {},
   "source": [
    "#### Pauli Propagation Surrogate\n",
    "Builds a graph that can later be evaluated."
   ]
  },
  {
   "cell_type": "code",
   "execution_count": 14,
   "id": "923e0c79",
   "metadata": {},
   "outputs": [
    {
     "name": "stdout",
     "output_type": "stream",
     "text": [
      "  0.886231 seconds (11.42 M allocations: 615.392 MiB, 24.95% gc time, 24.97% compilation time)\n",
      "length(dsym) = 53247\n",
      "  0.075948 seconds (32.10 k allocations: 5.161 MiB, 46.45% compilation time)\n"
     ]
    },
    {
     "data": {
      "text/plain": [
       "225500"
      ]
     },
     "execution_count": 14,
     "metadata": {},
     "output_type": "execute_result"
    }
   ],
   "source": [
    "d2 = operatortopathdict(op.operator)\n",
    "@time dsym = mergingbfs!(circ, d2, zeros(m); max_weight=W, max_freq=max_freq);\n",
    "@show length(dsym)\n",
    "\n",
    "final_nodes = collect(pth.coeff for (obs, pth) in zerofilter(dsym));\n",
    "final_eval_node = PauliGateNode(parents=final_nodes, trig_inds=zeros(Int, length(final_nodes)), signs=ones(length(final_nodes)), param_idx=1, cummulative_value=0.0);\n",
    "resetnodes(final_eval_node)\n",
    "resetnodes(final_eval_node)\n",
    "@time eval_list = gettraceevalorder(final_eval_node, zeros(m));\n",
    "length(eval_list)  # The list of all nodes. The order is such that one can savely be evaluated after the other."
   ]
  },
  {
   "cell_type": "code",
   "execution_count": 15,
   "id": "09f28dbd",
   "metadata": {},
   "outputs": [
    {
     "name": "stdout",
     "output_type": "stream",
     "text": [
      "  0.058188 seconds (62.00 k allocations: 4.309 MiB, 58.68% compilation time)\n"
     ]
    },
    {
     "data": {
      "text/plain": [
       "0.2172005843975723"
      ]
     },
     "execution_count": 15,
     "metadata": {},
     "output_type": "execute_result"
    }
   ],
   "source": [
    "@time expectation(eval_list, thetas)    # This is actually not always faster than numerical propagation, but in interesting cases it is by a lot.\n",
    "                                        # making this always at least as fast is work in progress. Graph traversal is hard."
   ]
  }
 ],
 "metadata": {
  "kernelspec": {
   "display_name": "Julia 1.10.2",
   "language": "julia",
   "name": "julia-1.10"
  },
  "language_info": {
   "file_extension": ".jl",
   "mimetype": "application/julia",
   "name": "julia",
   "version": "1.10.2"
  }
 },
 "nbformat": 4,
 "nbformat_minor": 5
}
