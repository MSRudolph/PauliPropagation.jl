{
 "cells": [
  {
   "cell_type": "code",
   "execution_count": 1,
   "id": "647b2634",
   "metadata": {},
   "outputs": [
    {
     "name": "stderr",
     "output_type": "stream",
     "text": [
      "\u001b[32m\u001b[1mPrecompiling\u001b[22m\u001b[39m PauliPropagation\n",
      "\u001b[32m  ✓ \u001b[39mPauliPropagation\n",
      "  1 dependency successfully precompiled in 1 seconds. 10 already precompiled.\n"
     ]
    }
   ],
   "source": [
    "using Revise\n",
    "using PauliPropagation"
   ]
  },
  {
   "cell_type": "code",
   "execution_count": 2,
   "id": "6b7e0352",
   "metadata": {},
   "outputs": [
    {
     "data": {
      "text/plain": [
       "8"
      ]
     },
     "execution_count": 2,
     "metadata": {},
     "output_type": "execute_result"
    }
   ],
   "source": [
    "nq = 8"
   ]
  },
  {
   "cell_type": "code",
   "execution_count": 3,
   "id": "b8d96c9c",
   "metadata": {},
   "outputs": [
    {
     "data": {
      "text/plain": [
       "PauliString(nqubits: 8, 1.0 * IIIZIIII)"
      ]
     },
     "execution_count": 3,
     "metadata": {},
     "output_type": "execute_result"
    }
   ],
   "source": [
    "op = PauliString(nq, :Z, round(Int, nq/2))"
   ]
  },
  {
   "cell_type": "code",
   "execution_count": 4,
   "id": "3b33e38c",
   "metadata": {},
   "outputs": [
    {
     "data": {
      "text/plain": [
       "124"
      ]
     },
     "execution_count": 4,
     "metadata": {},
     "output_type": "execute_result"
    }
   ],
   "source": [
    "nl = 4\n",
    "topo = bricklayertopology(nq; periodic=false)\n",
    "# topo = get2dtopology(4, 4)\n",
    "circ = hardwareefficientcircuit(nq, nl; topology=topo)\n",
    "# circ = efficientsu2circuit(nq, nl; topology=topo)\n",
    "m = length(circ)"
   ]
  },
  {
   "cell_type": "code",
   "execution_count": 5,
   "id": "0a8db20a",
   "metadata": {},
   "outputs": [],
   "source": [
    "using Random\n",
    "Random.seed!(42)\n",
    "thetas = randn(m);"
   ]
  },
  {
   "cell_type": "code",
   "execution_count": 6,
   "id": "84f77657",
   "metadata": {},
   "outputs": [],
   "source": [
    "W = Inf;                   # maximal operator weight.\n",
    "min_abs_coeff = 0;          # neglect small coefficients. Only for numerical and hybrid PP."
   ]
  },
  {
   "cell_type": "markdown",
   "id": "fc387343",
   "metadata": {},
   "source": [
    "#### Numerical Pauli Propagation\n",
    "Propagates numerical coefficients."
   ]
  },
  {
   "cell_type": "code",
   "execution_count": 7,
   "id": "006a7f20-c621-44ad-9a3f-c09628227cb0",
   "metadata": {},
   "outputs": [
    {
     "data": {
      "text/plain": [
       "PauliSum(nqubits: 8, 1 Pauli term: \n",
       " 1.0 * IIIZIIII\n",
       ")"
      ]
     },
     "execution_count": 7,
     "metadata": {},
     "output_type": "execute_result"
    }
   ],
   "source": [
    "opsum = PauliSum(nq, op)"
   ]
  },
  {
   "cell_type": "code",
   "execution_count": 8,
   "id": "4caa66bb-d93f-4002-afef-a91440b5682e",
   "metadata": {},
   "outputs": [
    {
     "name": "stdout",
     "output_type": "stream",
     "text": [
      "  0.322787 seconds (726.12 k allocations: 52.212 MiB, 2.10% gc time, 80.30% compilation time)\n",
      "length(dnum) = 53247\n"
     ]
    },
    {
     "data": {
      "text/plain": [
       "0.21720058439757214"
      ]
     },
     "execution_count": 8,
     "metadata": {},
     "output_type": "execute_result"
    }
   ],
   "source": [
    "@time dnum = mergingbfs(circ, op, thetas; max_weight=W, min_abs_coeff=min_abs_coeff);\n",
    "@show length(dnum)   # number of unique Pauli ops\n",
    "overlapwithzero(dnum) # expectation"
   ]
  },
  {
   "cell_type": "code",
   "execution_count": 9,
   "id": "93775be1",
   "metadata": {},
   "outputs": [
    {
     "name": "stdout",
     "output_type": "stream",
     "text": [
      "  0.067026 seconds (414 allocations: 3.790 MiB, 6.23% compilation time)\n",
      "length(dnum) = 53247\n"
     ]
    },
    {
     "data": {
      "text/plain": [
       "0.21720058439757214"
      ]
     },
     "execution_count": 9,
     "metadata": {},
     "output_type": "execute_result"
    }
   ],
   "source": [
    "@time dnum = mergingbfs(circ, opsum, thetas; max_weight=W, min_abs_coeff=min_abs_coeff);\n",
    "@show length(dnum)   # number of unique Pauli ops\n",
    "overlapwithzero(dnum) # expectation"
   ]
  },
  {
   "cell_type": "code",
   "execution_count": 10,
   "id": "6507d890-dece-4a33-b34d-24b75cdf7cb7",
   "metadata": {},
   "outputs": [
    {
     "data": {
      "text/plain": [
       "PauliSum(nqubits: 8, 53247 Pauli terms:\n",
       " 9.3421e-7 * XZIIXXZX\n",
       " 9.3651e-6 * IIIXIIZY\n",
       " 3.8189e-6 * YZZIYXZX\n",
       " -0.00014415 * ZXYYYXII\n",
       " -1.2334e-6 * IZYZIIXY\n",
       " 2.2079e-7 * XXIIYZXI\n",
       " 1.4947e-7 * IZZXIZYZ\n",
       " 3.2705e-7 * YYXIYYYZ\n",
       " -0.0035534 * YZIXXZII\n",
       " -5.7279e-7 * IXIYIIZX\n",
       " -3.3665e-6 * IYZZZYYX\n",
       " -8.1232e-9 * YIYZYIZZ\n",
       " 4.2359e-8 * XIZZXXZZ\n",
       " -2.3432e-8 * XZZXZZYZ\n",
       " -0.00012064 * ZZXZZXII\n",
       " -4.8324e-8 * XZYXIYYZ\n",
       " -3.3641e-7 * XXXYIYXZ\n",
       " 9.2096e-7 * IIIXZZXZ\n",
       " 5.996e-7 * ZZYXYYYY\n",
       " -2.2674e-7 * XXXXZZXY\n",
       "  ⋮)"
      ]
     },
     "execution_count": 10,
     "metadata": {},
     "output_type": "execute_result"
    }
   ],
   "source": [
    "dnum"
   ]
  },
  {
   "cell_type": "markdown",
   "id": "c4169f57",
   "metadata": {},
   "source": [
    "#### Hybrid Pauli Propagation\n",
    "Propagates numerical coefficients, but can but truncated like the surrogate."
   ]
  },
  {
   "cell_type": "code",
   "execution_count": 11,
   "id": "4959866b",
   "metadata": {},
   "outputs": [
    {
     "data": {
      "text/plain": [
       "Inf"
      ]
     },
     "execution_count": 11,
     "metadata": {},
     "output_type": "execute_result"
    }
   ],
   "source": [
    "max_freq = Inf   # max frequency, i.e., max number of sines and cosines per path"
   ]
  },
  {
   "cell_type": "code",
   "execution_count": 12,
   "id": "4d38e155",
   "metadata": {},
   "outputs": [
    {
     "name": "stdout",
     "output_type": "stream",
     "text": [
      "  0.253552 seconds (1.06 M allocations: 60.126 MiB, 4.70% gc time, 68.63% compilation time)\n",
      "length(dhyb) = 53247\n"
     ]
    },
    {
     "data": {
      "text/plain": [
       "0.21720058439757214"
      ]
     },
     "execution_count": 12,
     "metadata": {},
     "output_type": "execute_result"
    }
   ],
   "source": [
    "wrapped_op = wrapcoefficients(op, NumericPathProperties)\n",
    "@time dhyb = mergingbfs!(circ, wrapped_op, thetas; max_weight=W, max_freq=Inf, min_abs_coeff=min_abs_coeff);\n",
    "@show length(dhyb)\n",
    "overlapwithzero(dhyb)"
   ]
  },
  {
   "cell_type": "code",
   "execution_count": 13,
   "id": "9c9a2ebc",
   "metadata": {},
   "outputs": [
    {
     "data": {
      "text/plain": [
       "PauliSum(nqubits: 8, 53247 Pauli terms:\n",
       " PathProperty(9.3421e-7) * XZIIXXZX\n",
       " PathProperty(9.3651e-6) * IIIXIIZY\n",
       " PathProperty(3.8189e-6) * YZZIYXZX\n",
       " PathProperty(-0.00014415) * ZXYYYXII\n",
       " PathProperty(-1.2334e-6) * IZYZIIXY\n",
       " PathProperty(2.2079e-7) * XXIIYZXI\n",
       " PathProperty(1.4947e-7) * IZZXIZYZ\n",
       " PathProperty(3.2705e-7) * YYXIYYYZ\n",
       " PathProperty(-0.0035534) * YZIXXZII\n",
       " PathProperty(-5.7279e-7) * IXIYIIZX\n",
       " PathProperty(-3.3665e-6) * IYZZZYYX\n",
       " PathProperty(-8.1232e-9) * YIYZYIZZ\n",
       " PathProperty(4.2359e-8) * XIZZXXZZ\n",
       " PathProperty(-2.3432e-8) * XZZXZZYZ\n",
       " PathProperty(-0.00012064) * ZZXZZXII\n",
       " PathProperty(-4.8324e-8) * XZYXIYYZ\n",
       " PathProperty(-3.3641e-7) * XXXYIYXZ\n",
       " PathProperty(9.2096e-7) * IIIXZZXZ\n",
       " PathProperty(5.996e-7) * ZZYXYYYY\n",
       " PathProperty(-2.2674e-7) * XXXXZZXY\n",
       "  ⋮)"
      ]
     },
     "execution_count": 13,
     "metadata": {},
     "output_type": "execute_result"
    }
   ],
   "source": [
    "dhyb"
   ]
  },
  {
   "cell_type": "markdown",
   "id": "1ee6086e",
   "metadata": {},
   "source": [
    "#### Pauli Propagation Surrogate\n",
    "Builds a graph that can later be evaluated."
   ]
  },
  {
   "cell_type": "code",
   "execution_count": 14,
   "id": "923e0c79",
   "metadata": {},
   "outputs": [
    {
     "name": "stdout",
     "output_type": "stream",
     "text": [
      "  0.908660 seconds (11.63 M allocations: 629.551 MiB, 24.39% gc time, 27.53% compilation time)\n",
      "length(dsym) = 53247\n",
      "  0.072094 seconds (32.47 k allocations: 5.188 MiB, 45.52% compilation time)\n"
     ]
    },
    {
     "data": {
      "text/plain": [
       "225500"
      ]
     },
     "execution_count": 14,
     "metadata": {},
     "output_type": "execute_result"
    }
   ],
   "source": [
    "wrapped_op2 = wrapcoefficients(op, NodePathProperties)\n",
    "@time dsym = mergingbfs!(circ, wrapped_op2, zeros(m); max_weight=W, max_freq=max_freq);\n",
    "@show length(dsym)\n",
    "\n",
    "final_nodes = collect(pth.coeff for (obs, pth) in zerofilter(dsym));\n",
    "final_eval_node = PauliGateNode(parents=final_nodes, trig_inds=zeros(Int, length(final_nodes)), signs=ones(length(final_nodes)), param_idx=1, cummulative_value=0.0);\n",
    "resetnodes(final_eval_node)\n",
    "resetnodes(final_eval_node)\n",
    "@time eval_list = gettraceevalorder(final_eval_node, zeros(m));\n",
    "length(eval_list)  # The list of all nodes. The order is such that one can savely be evaluated after the other."
   ]
  },
  {
   "cell_type": "code",
   "execution_count": 15,
   "id": "09f28dbd",
   "metadata": {},
   "outputs": [
    {
     "name": "stdout",
     "output_type": "stream",
     "text": [
      "  0.088207 seconds (62.00 k allocations: 4.311 MiB, 72.46% compilation time)\n"
     ]
    },
    {
     "data": {
      "text/plain": [
       "0.2172005843975723"
      ]
     },
     "execution_count": 15,
     "metadata": {},
     "output_type": "execute_result"
    }
   ],
   "source": [
    "@time expectation(eval_list, thetas)    # This is actually not always faster than numerical propagation, but in interesting cases it is by a lot.\n",
    "                                        # making this always at least as fast is work in progress. Graph traversal is hard."
   ]
  }
 ],
 "metadata": {
  "kernelspec": {
   "display_name": "Julia 1.10.2",
   "language": "julia",
   "name": "julia-1.10"
  },
  "language_info": {
   "file_extension": ".jl",
   "mimetype": "application/julia",
   "name": "julia",
   "version": "1.10.2"
  }
 },
 "nbformat": 4,
 "nbformat_minor": 5
}
